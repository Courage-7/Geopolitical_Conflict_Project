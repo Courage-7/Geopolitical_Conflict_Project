{
  "cells": [
    {
      "cell_type": "markdown",
      "metadata": {
        "id": "_I6NbC-ma_FA"
      },
      "source": [
        "# **Machine Learning and GenAI in Geopolitical Conflict Analysis And Mitigation**"
      ]
    },
    {
      "cell_type": "markdown",
      "metadata": {
        "id": "DCWqiTEAphbs"
      },
      "source": [
        "## **Part 2 - RandomForest and LLM model integration**"
      ]
    },
    {
      "cell_type": "code",
      "execution_count": null,
      "metadata": {
        "colab": {
          "base_uri": "https://localhost:8080/"
        },
        "collapsed": true,
        "execution": {
          "iopub.execute_input": "2024-07-24T21:01:35.379613Z",
          "iopub.status.busy": "2024-07-24T21:01:35.379082Z",
          "iopub.status.idle": "2024-07-24T21:01:56.395818Z",
          "shell.execute_reply": "2024-07-24T21:01:56.394093Z",
          "shell.execute_reply.started": "2024-07-24T21:01:35.379576Z"
        },
        "id": "97vxsIPOGSG5",
        "outputId": "56306a94-382c-481a-efb6-b7bce587025b",
        "trusted": true
      },
      "outputs": [
        {
          "name": "stdout",
          "output_type": "stream",
          "text": [
            "Requirement already satisfied: statsmodels in /usr/local/lib/python3.10/dist-packages (0.14.4)\n",
            "Requirement already satisfied: numpy<3,>=1.22.3 in /usr/local/lib/python3.10/dist-packages (from statsmodels) (1.26.4)\n",
            "Requirement already satisfied: scipy!=1.9.2,>=1.8 in /usr/local/lib/python3.10/dist-packages (from statsmodels) (1.13.1)\n",
            "Requirement already satisfied: pandas!=2.1.0,>=1.4 in /usr/local/lib/python3.10/dist-packages (from statsmodels) (2.2.2)\n",
            "Requirement already satisfied: patsy>=0.5.6 in /usr/local/lib/python3.10/dist-packages (from statsmodels) (1.0.1)\n",
            "Requirement already satisfied: packaging>=21.3 in /usr/local/lib/python3.10/dist-packages (from statsmodels) (24.2)\n",
            "Requirement already satisfied: python-dateutil>=2.8.2 in /usr/local/lib/python3.10/dist-packages (from pandas!=2.1.0,>=1.4->statsmodels) (2.8.2)\n",
            "Requirement already satisfied: pytz>=2020.1 in /usr/local/lib/python3.10/dist-packages (from pandas!=2.1.0,>=1.4->statsmodels) (2024.2)\n",
            "Requirement already satisfied: tzdata>=2022.7 in /usr/local/lib/python3.10/dist-packages (from pandas!=2.1.0,>=1.4->statsmodels) (2024.2)\n",
            "Requirement already satisfied: six>=1.5 in /usr/local/lib/python3.10/dist-packages (from python-dateutil>=2.8.2->pandas!=2.1.0,>=1.4->statsmodels) (1.17.0)\n",
            "Requirement already satisfied: pip in /usr/local/lib/python3.10/dist-packages (24.3.1)\n",
            "Requirement already satisfied: imbalanced-learn in /usr/local/lib/python3.10/dist-packages (0.13.0)\n",
            "Requirement already satisfied: numpy<3,>=1.24.3 in /usr/local/lib/python3.10/dist-packages (from imbalanced-learn) (1.26.4)\n",
            "Requirement already satisfied: scipy<2,>=1.10.1 in /usr/local/lib/python3.10/dist-packages (from imbalanced-learn) (1.13.1)\n",
            "Requirement already satisfied: scikit-learn<2,>=1.3.2 in /usr/local/lib/python3.10/dist-packages (from imbalanced-learn) (1.6.0)\n",
            "Requirement already satisfied: sklearn-compat<1,>=0.1 in /usr/local/lib/python3.10/dist-packages (from imbalanced-learn) (0.1.3)\n",
            "Requirement already satisfied: joblib<2,>=1.1.1 in /usr/local/lib/python3.10/dist-packages (from imbalanced-learn) (1.4.2)\n",
            "Requirement already satisfied: threadpoolctl<4,>=2.0.0 in /usr/local/lib/python3.10/dist-packages (from imbalanced-learn) (3.5.0)\n",
            "Requirement already satisfied: openai==0.28 in /usr/local/lib/python3.10/dist-packages (0.28.0)\n",
            "Requirement already satisfied: requests>=2.20 in /usr/local/lib/python3.10/dist-packages (from openai==0.28) (2.32.3)\n",
            "Requirement already satisfied: tqdm in /usr/local/lib/python3.10/dist-packages (from openai==0.28) (4.67.1)\n",
            "Requirement already satisfied: aiohttp in /usr/local/lib/python3.10/dist-packages (from openai==0.28) (3.11.11)\n",
            "Requirement already satisfied: charset-normalizer<4,>=2 in /usr/local/lib/python3.10/dist-packages (from requests>=2.20->openai==0.28) (3.4.1)\n",
            "Requirement already satisfied: idna<4,>=2.5 in /usr/local/lib/python3.10/dist-packages (from requests>=2.20->openai==0.28) (3.10)\n",
            "Requirement already satisfied: urllib3<3,>=1.21.1 in /usr/local/lib/python3.10/dist-packages (from requests>=2.20->openai==0.28) (2.3.0)\n",
            "Requirement already satisfied: certifi>=2017.4.17 in /usr/local/lib/python3.10/dist-packages (from requests>=2.20->openai==0.28) (2024.12.14)\n",
            "Requirement already satisfied: aiohappyeyeballs>=2.3.0 in /usr/local/lib/python3.10/dist-packages (from aiohttp->openai==0.28) (2.4.4)\n",
            "Requirement already satisfied: aiosignal>=1.1.2 in /usr/local/lib/python3.10/dist-packages (from aiohttp->openai==0.28) (1.3.2)\n",
            "Requirement already satisfied: async-timeout<6.0,>=4.0 in /usr/local/lib/python3.10/dist-packages (from aiohttp->openai==0.28) (4.0.3)\n",
            "Requirement already satisfied: attrs>=17.3.0 in /usr/local/lib/python3.10/dist-packages (from aiohttp->openai==0.28) (24.3.0)\n",
            "Requirement already satisfied: frozenlist>=1.1.1 in /usr/local/lib/python3.10/dist-packages (from aiohttp->openai==0.28) (1.5.0)\n",
            "Requirement already satisfied: multidict<7.0,>=4.5 in /usr/local/lib/python3.10/dist-packages (from aiohttp->openai==0.28) (6.1.0)\n",
            "Requirement already satisfied: propcache>=0.2.0 in /usr/local/lib/python3.10/dist-packages (from aiohttp->openai==0.28) (0.2.1)\n",
            "Requirement already satisfied: yarl<2.0,>=1.17.0 in /usr/local/lib/python3.10/dist-packages (from aiohttp->openai==0.28) (1.18.3)\n",
            "Requirement already satisfied: typing-extensions>=4.1.0 in /usr/local/lib/python3.10/dist-packages (from multidict<7.0,>=4.5->aiohttp->openai==0.28) (4.12.2)\n"
          ]
        }
      ],
      "source": [
        "!pip install statsmodels\n",
        "!pip install --upgrade pip\n",
        "!pip install imbalanced-learn\n",
        "!pip install --upgrade openai==0.28"
      ]
    },
    {
      "cell_type": "code",
      "execution_count": null,
      "metadata": {
        "colab": {
          "base_uri": "https://localhost:8080/"
        },
        "id": "FQUokFGXIpRD",
        "outputId": "c5ec1269-67e0-4448-b70f-f57606329b36"
      },
      "outputs": [
        {
          "name": "stdout",
          "output_type": "stream",
          "text": [
            "Drive already mounted at /content/drive; to attempt to forcibly remount, call drive.mount(\"/content/drive\", force_remount=True).\n"
          ]
        }
      ],
      "source": [
        "import os\n",
        "from google.colab import drive\n",
        "drive.mount('/content/drive')"
      ]
    },
    {
      "cell_type": "code",
      "execution_count": null,
      "metadata": {
        "id": "k-gm_MbhGSG8"
      },
      "outputs": [],
      "source": [
        "#/content/drive/MyDrive/ACLED"
      ]
    },
    {
      "cell_type": "markdown",
      "metadata": {
        "id": "L-8lNWtXQLAR"
      },
      "source": []
    },
    {
      "cell_type": "code",
      "execution_count": null,
      "metadata": {
        "colab": {
          "base_uri": "https://localhost:8080/"
        },
        "id": "-cAn4xu0PPx_",
        "outputId": "167d01f3-5f81-496b-da8f-aea73cb6d39e"
      },
      "outputs": [
        {
          "name": "stdout",
          "output_type": "stream",
          "text": [
            "Files in the ACLED folder:\n",
            "Africa_1997-2024_Oct04.csv\n",
            "MiddleEast_2015-2024_Oct04.csv\n",
            "LatinAmerica_2018-2024_Oct04.csv\n",
            "Asia-Pacific_2018-2024_Oct04.csv\n",
            "Europe-Central-Asia_2018-2024_Oct04.csv\n",
            "USA_Canada_2020_2024_Oct04.csv\n"
          ]
        }
      ],
      "source": [
        "# Define the folder path\n",
        "folder_path = '/content/drive/MyDrive/ACLED'\n",
        "\n",
        "# List all files in the folder\n",
        "print(\"Files in the ACLED folder:\")\n",
        "for file_name in os.listdir(folder_path):\n",
        "    file_path = os.path.join(folder_path, file_name)\n",
        "    print(file_name)"
      ]
    },
    {
      "cell_type": "markdown",
      "metadata": {
        "id": "VvkgEcP7GSG8"
      },
      "source": [
        "# **Accessing Data and importing librares and dependencies**"
      ]
    },
    {
      "cell_type": "code",
      "execution_count": null,
      "metadata": {
        "_cell_guid": "b1076dfc-b9ad-4769-8c92-a6c4dae69d19",
        "_uuid": "8f2839f25d086af736a60e9eeb907d3b93b6e0e5",
        "execution": {
          "iopub.execute_input": "2024-07-24T21:01:56.400127Z",
          "iopub.status.busy": "2024-07-24T21:01:56.399526Z",
          "iopub.status.idle": "2024-07-24T21:01:56.411170Z",
          "shell.execute_reply": "2024-07-24T21:01:56.409685Z",
          "shell.execute_reply.started": "2024-07-24T21:01:56.400073Z"
        },
        "id": "R0b2HFrPGSG9",
        "trusted": true
      },
      "outputs": [],
      "source": [
        "#importing libraries and dependencies\n",
        "import pandas as pd\n",
        "import numpy as np\n",
        "import matplotlib.pyplot as plt\n",
        "import seaborn as sns\n",
        "import os\n",
        "from statsmodels.tsa.seasonal import seasonal_decompose\n",
        "from statsmodels.tsa.stattools import adfuller\n",
        "from sklearn.preprocessing import StandardScaler\n",
        "from sklearn.impute import SimpleImputer\n",
        "from sklearn.preprocessing import OneHotEncoder\n",
        "from sklearn.compose import ColumnTransformer\n",
        "from sklearn.pipeline import Pipeline\n",
        "from sklearn.model_selection import train_test_split\n",
        "from sklearn.metrics import accuracy_score, precision_score, recall_score, f1_score, confusion_matrix\n",
        "from sklearn.metrics import classification_report\n",
        "from sklearn.ensemble import RandomForestClassifier\n",
        "from sklearn.model_selection import KFold, train_test_split\n",
        "from sklearn.model_selection import GridSearchCV\n",
        "\n",
        "import warnings\n",
        "warnings.filterwarnings('ignore')"
      ]
    },
    {
      "cell_type": "code",
      "execution_count": null,
      "metadata": {
        "colab": {
          "base_uri": "https://localhost:8080/",
          "height": 52
        },
        "execution": {
          "iopub.execute_input": "2024-07-24T21:01:56.412997Z",
          "iopub.status.busy": "2024-07-24T21:01:56.412573Z",
          "iopub.status.idle": "2024-07-24T21:01:56.445255Z",
          "shell.execute_reply": "2024-07-24T21:01:56.443867Z",
          "shell.execute_reply.started": "2024-07-24T21:01:56.412926Z"
        },
        "id": "K4DJkY05GSG-",
        "outputId": "25be5597-4ea8-4935-e13a-a00f387bd34e",
        "trusted": true
      },
      "outputs": [
        {
          "data": {
            "application/vnd.google.colaboratory.intrinsic+json": {
              "type": "string"
            },
            "text/plain": [
              "\"\\nimport os\\nfor dirname, _, filenames in os.walk('/kaggle/input'):\\n    for filename in filenames:\\n        print(os.path.join(dirname, filename))\\n        \""
            ]
          },
          "execution_count": 70,
          "metadata": {},
          "output_type": "execute_result"
        }
      ],
      "source": [
        "# Input data files are available in the read-only \"../input/\" directory\n",
        "\"\"\"\n",
        "import os\n",
        "for dirname, _, filenames in os.walk('/kaggle/input'):\n",
        "    for filename in filenames:\n",
        "        print(os.path.join(dirname, filename))\n",
        "        \"\"\""
      ]
    },
    {
      "cell_type": "code",
      "execution_count": null,
      "metadata": {
        "colab": {
          "base_uri": "https://localhost:8080/",
          "height": 87
        },
        "execution": {
          "iopub.execute_input": "2024-07-24T21:01:56.447653Z",
          "iopub.status.busy": "2024-07-24T21:01:56.447114Z",
          "iopub.status.idle": "2024-07-24T21:01:56.454550Z",
          "shell.execute_reply": "2024-07-24T21:01:56.453091Z",
          "shell.execute_reply.started": "2024-07-24T21:01:56.447608Z"
        },
        "id": "4rYpegWhGSG_",
        "outputId": "f116d11a-dc92-4459-bd96-e7b4856cde48",
        "trusted": true
      },
      "outputs": [
        {
          "data": {
            "application/vnd.google.colaboratory.intrinsic+json": {
              "type": "string"
            },
            "text/plain": [
              "'\\nfile_paths = [\\n    \"/kaggle/input/acled-conflict-data/USA_Canada_2020_2024_Jun28.csv\",\\n    \"/kaggle/input/acled-conflict-data/Africa_1997-2024_Jun28.csv\",\\n    \"/kaggle/input/acled-conflict-data/LatinAmerica_2018-2024_Jun28.csv\",\\n    \"/kaggle/input/acled-conflict-data/MiddleEast_2015-2024_Jun28.csv\",\\n    \"/kaggle/input/acled-conflict-data/Asia-Pacific_2018-2024_Jun28.csv\",\\n    \"/kaggle/input/acled-conflict-data/Europe-Central-Asia_2018-2024_Jun28.csv\"\\n]\\n'"
            ]
          },
          "execution_count": 71,
          "metadata": {},
          "output_type": "execute_result"
        }
      ],
      "source": [
        "# Define the paths to the CSV files - working in kaggle notebook\n",
        "\"\"\"\n",
        "file_paths = [\n",
        "    \"/kaggle/input/acled-conflict-data/USA_Canada_2020_2024_Jun28.csv\",\n",
        "    \"/kaggle/input/acled-conflict-data/Africa_1997-2024_Jun28.csv\",\n",
        "    \"/kaggle/input/acled-conflict-data/LatinAmerica_2018-2024_Jun28.csv\",\n",
        "    \"/kaggle/input/acled-conflict-data/MiddleEast_2015-2024_Jun28.csv\",\n",
        "    \"/kaggle/input/acled-conflict-data/Asia-Pacific_2018-2024_Jun28.csv\",\n",
        "    \"/kaggle/input/acled-conflict-data/Europe-Central-Asia_2018-2024_Jun28.csv\"\n",
        "]\n",
        "\"\"\""
      ]
    },
    {
      "cell_type": "code",
      "execution_count": null,
      "metadata": {
        "colab": {
          "base_uri": "https://localhost:8080/"
        },
        "execution": {
          "iopub.execute_input": "2024-07-24T21:01:56.459602Z",
          "iopub.status.busy": "2024-07-24T21:01:56.458306Z",
          "iopub.status.idle": "2024-07-24T21:02:36.454649Z",
          "shell.execute_reply": "2024-07-24T21:02:36.453174Z",
          "shell.execute_reply.started": "2024-07-24T21:01:56.459560Z"
        },
        "id": "sy_2gaUcGSG_",
        "outputId": "0ca03642-b5b7-4291-f513-a032f8aa7c34",
        "trusted": true
      },
      "outputs": [
        {
          "name": "stdout",
          "output_type": "stream",
          "text": [
            "Our 6 datasets are ready to read now.\n"
          ]
        }
      ],
      "source": [
        "# List of CSV files from our ACLED folder dir\n",
        "csv_files = ['Africa_1997-2024_Oct04.csv', 'LatinAmerica_2018-2024_Oct04.csv',\n",
        "             'Asia-Pacific_2018-2024_Oct04.csv', 'MiddleEast_2015-2024_Oct04.csv',\n",
        "             'Europe-Central-Asia_2018-2024_Oct04.csv', 'USA_Canada_2020_2024_Oct04.csv']\n",
        "\n",
        "# Construct the full file paths\n",
        "csv_files_with_path = [os.path.join(folder_path, file_name) for file_name in csv_files]\n",
        "\n",
        "# Load the files into DataFrames, matching file names with DataFrame names\n",
        "Africa_df = pd.read_csv(csv_files_with_path[0])\n",
        "LatinAmerica_df = pd.read_csv(csv_files_with_path[1])\n",
        "Asia_df = pd.read_csv(csv_files_with_path[2])\n",
        "MiddleEast_df = pd.read_csv(csv_files_with_path[3])\n",
        "Europe_df = pd.read_csv(csv_files_with_path[4])\n",
        "USA_Canada_df = pd.read_csv(csv_files_with_path[5])\n",
        "\n",
        "print(\"Our 6 datasets are ready to read now.\")"
      ]
    },
    {
      "cell_type": "markdown",
      "metadata": {
        "id": "7bBqfK97GSHA"
      },
      "source": [
        "# **Data Aggregation And Preprocessing.**"
      ]
    },
    {
      "cell_type": "markdown",
      "metadata": {
        "id": "8TAPyB58GSHA"
      },
      "source": [
        "We undertake various tasks to combine and clean our conflict dataset making it ready for analysis and model implementation."
      ]
    },
    {
      "cell_type": "code",
      "execution_count": null,
      "metadata": {
        "execution": {
          "iopub.execute_input": "2024-07-24T21:02:36.457685Z",
          "iopub.status.busy": "2024-07-24T21:02:36.457089Z",
          "iopub.status.idle": "2024-07-24T21:02:37.260490Z",
          "shell.execute_reply": "2024-07-24T21:02:37.259212Z",
          "shell.execute_reply.started": "2024-07-24T21:02:36.457618Z"
        },
        "id": "bdXez-CdGSHB",
        "trusted": true
      },
      "outputs": [],
      "source": [
        "# Combine datasets\n",
        "combined_df = pd.concat([Africa_df, Asia_df, Europe_df, LatinAmerica_df, MiddleEast_df, USA_Canada_df], ignore_index=True)"
      ]
    },
    {
      "cell_type": "code",
      "execution_count": null,
      "metadata": {
        "execution": {
          "iopub.execute_input": "2024-07-24T21:02:37.262147Z",
          "iopub.status.busy": "2024-07-24T21:02:37.261773Z",
          "iopub.status.idle": "2024-07-24T21:03:57.843633Z",
          "shell.execute_reply": "2024-07-24T21:03:57.842193Z",
          "shell.execute_reply.started": "2024-07-24T21:02:37.262116Z"
        },
        "id": "-UvF5hSkGSHB",
        "trusted": true
      },
      "outputs": [],
      "source": [
        "# Save the combined DataFrame to a CSV file - optional\n",
        "#combined_df.to_csv('combined_df.csv', index=False)"
      ]
    },
    {
      "cell_type": "code",
      "execution_count": null,
      "metadata": {
        "id": "L42KmFOhXEvM"
      },
      "outputs": [],
      "source": [
        "# copy of our combined df\n",
        "combined_df_copy = combined_df.copy()"
      ]
    },
    {
      "cell_type": "code",
      "execution_count": null,
      "metadata": {
        "execution": {
          "iopub.execute_input": "2024-07-24T21:03:57.846855Z",
          "iopub.status.busy": "2024-07-24T21:03:57.846306Z",
          "iopub.status.idle": "2024-07-24T21:03:59.072845Z",
          "shell.execute_reply": "2024-07-24T21:03:59.071488Z",
          "shell.execute_reply.started": "2024-07-24T21:03:57.846808Z"
        },
        "id": "-LNEh_S9GSHB",
        "trusted": true
      },
      "outputs": [],
      "source": [
        "# To keep track of which data comes from which region, we considered adding a new column indicating the region for each row.\n",
        "Africa_df['Region'] = 'Africa'\n",
        "Asia_df['Region'] = 'Asia'\n",
        "Europe_df['Region'] = 'Europe'\n",
        "LatinAmerica_df['Region'] = 'Latin America'\n",
        "MiddleEast_df['Region'] = 'Middle East'\n",
        "USA_Canada_df['Region'] = 'USA/Canada'\n",
        "\n",
        "combined_df = pd.concat([Africa_df, Asia_df, Europe_df, LatinAmerica_df, MiddleEast_df, USA_Canada_df], ignore_index=True)"
      ]
    },
    {
      "cell_type": "code",
      "execution_count": null,
      "metadata": {
        "colab": {
          "base_uri": "https://localhost:8080/"
        },
        "execution": {
          "iopub.execute_input": "2024-07-24T21:03:59.074776Z",
          "iopub.status.busy": "2024-07-24T21:03:59.074375Z",
          "iopub.status.idle": "2024-07-24T21:03:59.108048Z",
          "shell.execute_reply": "2024-07-24T21:03:59.106767Z",
          "shell.execute_reply.started": "2024-07-24T21:03:59.074743Z"
        },
        "id": "30Nsinl9GSHC",
        "outputId": "b7b00229-9933-4bdb-b858-8a8919578c6e",
        "trusted": true
      },
      "outputs": [
        {
          "name": "stdout",
          "output_type": "stream",
          "text": [
            "<class 'pandas.core.frame.DataFrame'>\n",
            "RangeIndex: 2282666 entries, 0 to 2282665\n",
            "Data columns (total 32 columns):\n",
            " #   Column              Dtype  \n",
            "---  ------              -----  \n",
            " 0   event_id_cnty       object \n",
            " 1   event_date          object \n",
            " 2   year                int64  \n",
            " 3   time_precision      int64  \n",
            " 4   disorder_type       object \n",
            " 5   event_type          object \n",
            " 6   sub_event_type      object \n",
            " 7   actor1              object \n",
            " 8   assoc_actor_1       object \n",
            " 9   inter1              object \n",
            " 10  actor2              object \n",
            " 11  assoc_actor_2       object \n",
            " 12  inter2              object \n",
            " 13  interaction         object \n",
            " 14  civilian_targeting  object \n",
            " 15  iso                 int64  \n",
            " 16  region              object \n",
            " 17  country             object \n",
            " 18  admin1              object \n",
            " 19  admin2              object \n",
            " 20  admin3              object \n",
            " 21  location            object \n",
            " 22  latitude            float64\n",
            " 23  longitude           float64\n",
            " 24  geo_precision       int64  \n",
            " 25  source              object \n",
            " 26  source_scale        object \n",
            " 27  notes               object \n",
            " 28  fatalities          int64  \n",
            " 29  tags                object \n",
            " 30  timestamp           int64  \n",
            " 31  Region              object \n",
            "dtypes: float64(2), int64(6), object(24)\n",
            "memory usage: 557.3+ MB\n",
            "None\n"
          ]
        }
      ],
      "source": [
        "# Check the combined dataframe\n",
        "print(combined_df.info())"
      ]
    },
    {
      "cell_type": "code",
      "execution_count": null,
      "metadata": {
        "colab": {
          "base_uri": "https://localhost:8080/",
          "height": 758
        },
        "execution": {
          "iopub.execute_input": "2024-07-24T21:03:59.109963Z",
          "iopub.status.busy": "2024-07-24T21:03:59.109582Z",
          "iopub.status.idle": "2024-07-24T21:03:59.155898Z",
          "shell.execute_reply": "2024-07-24T21:03:59.154553Z",
          "shell.execute_reply.started": "2024-07-24T21:03:59.109932Z"
        },
        "id": "52uT9z59GSHC",
        "outputId": "e3596ee7-6b8e-474d-970a-1c92562dd21c",
        "trusted": true
      },
      "outputs": [
        {
          "data": {
            "application/vnd.google.colaboratory.intrinsic+json": {
              "type": "dataframe",
              "variable_name": "combined_df"
            },
            "text/html": [
              "\n",
              "  <div id=\"df-fd60d210-4a20-4d7c-ac17-76ae86426176\" class=\"colab-df-container\">\n",
              "    <div>\n",
              "<style scoped>\n",
              "    .dataframe tbody tr th:only-of-type {\n",
              "        vertical-align: middle;\n",
              "    }\n",
              "\n",
              "    .dataframe tbody tr th {\n",
              "        vertical-align: top;\n",
              "    }\n",
              "\n",
              "    .dataframe thead th {\n",
              "        text-align: right;\n",
              "    }\n",
              "</style>\n",
              "<table border=\"1\" class=\"dataframe\">\n",
              "  <thead>\n",
              "    <tr style=\"text-align: right;\">\n",
              "      <th></th>\n",
              "      <th>event_id_cnty</th>\n",
              "      <th>event_date</th>\n",
              "      <th>year</th>\n",
              "      <th>time_precision</th>\n",
              "      <th>disorder_type</th>\n",
              "      <th>event_type</th>\n",
              "      <th>sub_event_type</th>\n",
              "      <th>actor1</th>\n",
              "      <th>assoc_actor_1</th>\n",
              "      <th>inter1</th>\n",
              "      <th>...</th>\n",
              "      <th>latitude</th>\n",
              "      <th>longitude</th>\n",
              "      <th>geo_precision</th>\n",
              "      <th>source</th>\n",
              "      <th>source_scale</th>\n",
              "      <th>notes</th>\n",
              "      <th>fatalities</th>\n",
              "      <th>tags</th>\n",
              "      <th>timestamp</th>\n",
              "      <th>Region</th>\n",
              "    </tr>\n",
              "  </thead>\n",
              "  <tbody>\n",
              "    <tr>\n",
              "      <th>0</th>\n",
              "      <td>BFO12659</td>\n",
              "      <td>2024-10-04</td>\n",
              "      <td>2024</td>\n",
              "      <td>1</td>\n",
              "      <td>Political violence</td>\n",
              "      <td>Explosions/Remote violence</td>\n",
              "      <td>Air/drone strike</td>\n",
              "      <td>Military Forces of Burkina Faso (2022-)</td>\n",
              "      <td>NaN</td>\n",
              "      <td>State forces</td>\n",
              "      <td>...</td>\n",
              "      <td>10.0116</td>\n",
              "      <td>-4.0287</td>\n",
              "      <td>2</td>\n",
              "      <td>Undisclosed Source</td>\n",
              "      <td>Local partner-Other</td>\n",
              "      <td>On 4 October 2024, the Burkinabe force carried...</td>\n",
              "      <td>5</td>\n",
              "      <td>NaN</td>\n",
              "      <td>1728335020</td>\n",
              "      <td>Africa</td>\n",
              "    </tr>\n",
              "    <tr>\n",
              "      <th>1</th>\n",
              "      <td>BFO12661</td>\n",
              "      <td>2024-10-04</td>\n",
              "      <td>2024</td>\n",
              "      <td>1</td>\n",
              "      <td>Political violence</td>\n",
              "      <td>Battles</td>\n",
              "      <td>Armed clash</td>\n",
              "      <td>JNIM: Group for Support of Islam and Muslims</td>\n",
              "      <td>NaN</td>\n",
              "      <td>Rebel group</td>\n",
              "      <td>...</td>\n",
              "      <td>14.0875</td>\n",
              "      <td>-1.6418</td>\n",
              "      <td>2</td>\n",
              "      <td>Al Zallaqa; Whatsapp</td>\n",
              "      <td>New media</td>\n",
              "      <td>On 4 October 2024, JNIM militants carried out ...</td>\n",
              "      <td>0</td>\n",
              "      <td>NaN</td>\n",
              "      <td>1728335020</td>\n",
              "      <td>Africa</td>\n",
              "    </tr>\n",
              "    <tr>\n",
              "      <th>2</th>\n",
              "      <td>BFO12665</td>\n",
              "      <td>2024-10-04</td>\n",
              "      <td>2024</td>\n",
              "      <td>1</td>\n",
              "      <td>Political violence</td>\n",
              "      <td>Battles</td>\n",
              "      <td>Armed clash</td>\n",
              "      <td>JNIM: Group for Support of Islam and Muslims</td>\n",
              "      <td>NaN</td>\n",
              "      <td>Rebel group</td>\n",
              "      <td>...</td>\n",
              "      <td>13.6758</td>\n",
              "      <td>-2.3336</td>\n",
              "      <td>1</td>\n",
              "      <td>Whatsapp</td>\n",
              "      <td>New media</td>\n",
              "      <td>On 4 October 2024, JNIM militants attacked a p...</td>\n",
              "      <td>0</td>\n",
              "      <td>NaN</td>\n",
              "      <td>1728335020</td>\n",
              "      <td>Africa</td>\n",
              "    </tr>\n",
              "    <tr>\n",
              "      <th>3</th>\n",
              "      <td>BFO12682</td>\n",
              "      <td>2024-10-04</td>\n",
              "      <td>2024</td>\n",
              "      <td>1</td>\n",
              "      <td>Strategic developments</td>\n",
              "      <td>Strategic developments</td>\n",
              "      <td>Other</td>\n",
              "      <td>JNIM: Group for Support of Islam and Muslims</td>\n",
              "      <td>NaN</td>\n",
              "      <td>Rebel group</td>\n",
              "      <td>...</td>\n",
              "      <td>12.7097</td>\n",
              "      <td>-0.1311</td>\n",
              "      <td>2</td>\n",
              "      <td>Undisclosed Source</td>\n",
              "      <td>Local partner-Other</td>\n",
              "      <td>Non-violent activity: On 4 October 2024, JNIM ...</td>\n",
              "      <td>0</td>\n",
              "      <td>NaN</td>\n",
              "      <td>1728335020</td>\n",
              "      <td>Africa</td>\n",
              "    </tr>\n",
              "    <tr>\n",
              "      <th>4</th>\n",
              "      <td>BFO12687</td>\n",
              "      <td>2024-10-04</td>\n",
              "      <td>2024</td>\n",
              "      <td>1</td>\n",
              "      <td>Demonstrations</td>\n",
              "      <td>Riots</td>\n",
              "      <td>Violent demonstration</td>\n",
              "      <td>Rioters (Burkina Faso)</td>\n",
              "      <td>Students (Burkina Faso)</td>\n",
              "      <td>Rioters</td>\n",
              "      <td>...</td>\n",
              "      <td>12.4634</td>\n",
              "      <td>-3.4608</td>\n",
              "      <td>1</td>\n",
              "      <td>Facebook</td>\n",
              "      <td>New media</td>\n",
              "      <td>On 4 October 2024, students from the modern li...</td>\n",
              "      <td>0</td>\n",
              "      <td>crowd size=no report</td>\n",
              "      <td>1728335020</td>\n",
              "      <td>Africa</td>\n",
              "    </tr>\n",
              "  </tbody>\n",
              "</table>\n",
              "<p>5 rows × 32 columns</p>\n",
              "</div>\n",
              "    <div class=\"colab-df-buttons\">\n",
              "\n",
              "  <div class=\"colab-df-container\">\n",
              "    <button class=\"colab-df-convert\" onclick=\"convertToInteractive('df-fd60d210-4a20-4d7c-ac17-76ae86426176')\"\n",
              "            title=\"Convert this dataframe to an interactive table.\"\n",
              "            style=\"display:none;\">\n",
              "\n",
              "  <svg xmlns=\"http://www.w3.org/2000/svg\" height=\"24px\" viewBox=\"0 -960 960 960\">\n",
              "    <path d=\"M120-120v-720h720v720H120Zm60-500h600v-160H180v160Zm220 220h160v-160H400v160Zm0 220h160v-160H400v160ZM180-400h160v-160H180v160Zm440 0h160v-160H620v160ZM180-180h160v-160H180v160Zm440 0h160v-160H620v160Z\"/>\n",
              "  </svg>\n",
              "    </button>\n",
              "\n",
              "  <style>\n",
              "    .colab-df-container {\n",
              "      display:flex;\n",
              "      gap: 12px;\n",
              "    }\n",
              "\n",
              "    .colab-df-convert {\n",
              "      background-color: #E8F0FE;\n",
              "      border: none;\n",
              "      border-radius: 50%;\n",
              "      cursor: pointer;\n",
              "      display: none;\n",
              "      fill: #1967D2;\n",
              "      height: 32px;\n",
              "      padding: 0 0 0 0;\n",
              "      width: 32px;\n",
              "    }\n",
              "\n",
              "    .colab-df-convert:hover {\n",
              "      background-color: #E2EBFA;\n",
              "      box-shadow: 0px 1px 2px rgba(60, 64, 67, 0.3), 0px 1px 3px 1px rgba(60, 64, 67, 0.15);\n",
              "      fill: #174EA6;\n",
              "    }\n",
              "\n",
              "    .colab-df-buttons div {\n",
              "      margin-bottom: 4px;\n",
              "    }\n",
              "\n",
              "    [theme=dark] .colab-df-convert {\n",
              "      background-color: #3B4455;\n",
              "      fill: #D2E3FC;\n",
              "    }\n",
              "\n",
              "    [theme=dark] .colab-df-convert:hover {\n",
              "      background-color: #434B5C;\n",
              "      box-shadow: 0px 1px 3px 1px rgba(0, 0, 0, 0.15);\n",
              "      filter: drop-shadow(0px 1px 2px rgba(0, 0, 0, 0.3));\n",
              "      fill: #FFFFFF;\n",
              "    }\n",
              "  </style>\n",
              "\n",
              "    <script>\n",
              "      const buttonEl =\n",
              "        document.querySelector('#df-fd60d210-4a20-4d7c-ac17-76ae86426176 button.colab-df-convert');\n",
              "      buttonEl.style.display =\n",
              "        google.colab.kernel.accessAllowed ? 'block' : 'none';\n",
              "\n",
              "      async function convertToInteractive(key) {\n",
              "        const element = document.querySelector('#df-fd60d210-4a20-4d7c-ac17-76ae86426176');\n",
              "        const dataTable =\n",
              "          await google.colab.kernel.invokeFunction('convertToInteractive',\n",
              "                                                    [key], {});\n",
              "        if (!dataTable) return;\n",
              "\n",
              "        const docLinkHtml = 'Like what you see? Visit the ' +\n",
              "          '<a target=\"_blank\" href=https://colab.research.google.com/notebooks/data_table.ipynb>data table notebook</a>'\n",
              "          + ' to learn more about interactive tables.';\n",
              "        element.innerHTML = '';\n",
              "        dataTable['output_type'] = 'display_data';\n",
              "        await google.colab.output.renderOutput(dataTable, element);\n",
              "        const docLink = document.createElement('div');\n",
              "        docLink.innerHTML = docLinkHtml;\n",
              "        element.appendChild(docLink);\n",
              "      }\n",
              "    </script>\n",
              "  </div>\n",
              "\n",
              "\n",
              "<div id=\"df-bca610d1-03f9-4d95-98cd-a22e58ee81db\">\n",
              "  <button class=\"colab-df-quickchart\" onclick=\"quickchart('df-bca610d1-03f9-4d95-98cd-a22e58ee81db')\"\n",
              "            title=\"Suggest charts\"\n",
              "            style=\"display:none;\">\n",
              "\n",
              "<svg xmlns=\"http://www.w3.org/2000/svg\" height=\"24px\"viewBox=\"0 0 24 24\"\n",
              "     width=\"24px\">\n",
              "    <g>\n",
              "        <path d=\"M19 3H5c-1.1 0-2 .9-2 2v14c0 1.1.9 2 2 2h14c1.1 0 2-.9 2-2V5c0-1.1-.9-2-2-2zM9 17H7v-7h2v7zm4 0h-2V7h2v10zm4 0h-2v-4h2v4z\"/>\n",
              "    </g>\n",
              "</svg>\n",
              "  </button>\n",
              "\n",
              "<style>\n",
              "  .colab-df-quickchart {\n",
              "      --bg-color: #E8F0FE;\n",
              "      --fill-color: #1967D2;\n",
              "      --hover-bg-color: #E2EBFA;\n",
              "      --hover-fill-color: #174EA6;\n",
              "      --disabled-fill-color: #AAA;\n",
              "      --disabled-bg-color: #DDD;\n",
              "  }\n",
              "\n",
              "  [theme=dark] .colab-df-quickchart {\n",
              "      --bg-color: #3B4455;\n",
              "      --fill-color: #D2E3FC;\n",
              "      --hover-bg-color: #434B5C;\n",
              "      --hover-fill-color: #FFFFFF;\n",
              "      --disabled-bg-color: #3B4455;\n",
              "      --disabled-fill-color: #666;\n",
              "  }\n",
              "\n",
              "  .colab-df-quickchart {\n",
              "    background-color: var(--bg-color);\n",
              "    border: none;\n",
              "    border-radius: 50%;\n",
              "    cursor: pointer;\n",
              "    display: none;\n",
              "    fill: var(--fill-color);\n",
              "    height: 32px;\n",
              "    padding: 0;\n",
              "    width: 32px;\n",
              "  }\n",
              "\n",
              "  .colab-df-quickchart:hover {\n",
              "    background-color: var(--hover-bg-color);\n",
              "    box-shadow: 0 1px 2px rgba(60, 64, 67, 0.3), 0 1px 3px 1px rgba(60, 64, 67, 0.15);\n",
              "    fill: var(--button-hover-fill-color);\n",
              "  }\n",
              "\n",
              "  .colab-df-quickchart-complete:disabled,\n",
              "  .colab-df-quickchart-complete:disabled:hover {\n",
              "    background-color: var(--disabled-bg-color);\n",
              "    fill: var(--disabled-fill-color);\n",
              "    box-shadow: none;\n",
              "  }\n",
              "\n",
              "  .colab-df-spinner {\n",
              "    border: 2px solid var(--fill-color);\n",
              "    border-color: transparent;\n",
              "    border-bottom-color: var(--fill-color);\n",
              "    animation:\n",
              "      spin 1s steps(1) infinite;\n",
              "  }\n",
              "\n",
              "  @keyframes spin {\n",
              "    0% {\n",
              "      border-color: transparent;\n",
              "      border-bottom-color: var(--fill-color);\n",
              "      border-left-color: var(--fill-color);\n",
              "    }\n",
              "    20% {\n",
              "      border-color: transparent;\n",
              "      border-left-color: var(--fill-color);\n",
              "      border-top-color: var(--fill-color);\n",
              "    }\n",
              "    30% {\n",
              "      border-color: transparent;\n",
              "      border-left-color: var(--fill-color);\n",
              "      border-top-color: var(--fill-color);\n",
              "      border-right-color: var(--fill-color);\n",
              "    }\n",
              "    40% {\n",
              "      border-color: transparent;\n",
              "      border-right-color: var(--fill-color);\n",
              "      border-top-color: var(--fill-color);\n",
              "    }\n",
              "    60% {\n",
              "      border-color: transparent;\n",
              "      border-right-color: var(--fill-color);\n",
              "    }\n",
              "    80% {\n",
              "      border-color: transparent;\n",
              "      border-right-color: var(--fill-color);\n",
              "      border-bottom-color: var(--fill-color);\n",
              "    }\n",
              "    90% {\n",
              "      border-color: transparent;\n",
              "      border-bottom-color: var(--fill-color);\n",
              "    }\n",
              "  }\n",
              "</style>\n",
              "\n",
              "  <script>\n",
              "    async function quickchart(key) {\n",
              "      const quickchartButtonEl =\n",
              "        document.querySelector('#' + key + ' button');\n",
              "      quickchartButtonEl.disabled = true;  // To prevent multiple clicks.\n",
              "      quickchartButtonEl.classList.add('colab-df-spinner');\n",
              "      try {\n",
              "        const charts = await google.colab.kernel.invokeFunction(\n",
              "            'suggestCharts', [key], {});\n",
              "      } catch (error) {\n",
              "        console.error('Error during call to suggestCharts:', error);\n",
              "      }\n",
              "      quickchartButtonEl.classList.remove('colab-df-spinner');\n",
              "      quickchartButtonEl.classList.add('colab-df-quickchart-complete');\n",
              "    }\n",
              "    (() => {\n",
              "      let quickchartButtonEl =\n",
              "        document.querySelector('#df-bca610d1-03f9-4d95-98cd-a22e58ee81db button');\n",
              "      quickchartButtonEl.style.display =\n",
              "        google.colab.kernel.accessAllowed ? 'block' : 'none';\n",
              "    })();\n",
              "  </script>\n",
              "</div>\n",
              "\n",
              "    </div>\n",
              "  </div>\n"
            ],
            "text/plain": [
              "  event_id_cnty  event_date  year  time_precision           disorder_type  \\\n",
              "0      BFO12659  2024-10-04  2024               1      Political violence   \n",
              "1      BFO12661  2024-10-04  2024               1      Political violence   \n",
              "2      BFO12665  2024-10-04  2024               1      Political violence   \n",
              "3      BFO12682  2024-10-04  2024               1  Strategic developments   \n",
              "4      BFO12687  2024-10-04  2024               1          Demonstrations   \n",
              "\n",
              "                   event_type         sub_event_type  \\\n",
              "0  Explosions/Remote violence       Air/drone strike   \n",
              "1                     Battles            Armed clash   \n",
              "2                     Battles            Armed clash   \n",
              "3      Strategic developments                  Other   \n",
              "4                       Riots  Violent demonstration   \n",
              "\n",
              "                                         actor1            assoc_actor_1  \\\n",
              "0       Military Forces of Burkina Faso (2022-)                      NaN   \n",
              "1  JNIM: Group for Support of Islam and Muslims                      NaN   \n",
              "2  JNIM: Group for Support of Islam and Muslims                      NaN   \n",
              "3  JNIM: Group for Support of Islam and Muslims                      NaN   \n",
              "4                        Rioters (Burkina Faso)  Students (Burkina Faso)   \n",
              "\n",
              "         inter1  ... latitude longitude geo_precision                source  \\\n",
              "0  State forces  ...  10.0116   -4.0287             2    Undisclosed Source   \n",
              "1   Rebel group  ...  14.0875   -1.6418             2  Al Zallaqa; Whatsapp   \n",
              "2   Rebel group  ...  13.6758   -2.3336             1              Whatsapp   \n",
              "3   Rebel group  ...  12.7097   -0.1311             2    Undisclosed Source   \n",
              "4       Rioters  ...  12.4634   -3.4608             1              Facebook   \n",
              "\n",
              "          source_scale                                              notes  \\\n",
              "0  Local partner-Other  On 4 October 2024, the Burkinabe force carried...   \n",
              "1            New media  On 4 October 2024, JNIM militants carried out ...   \n",
              "2            New media  On 4 October 2024, JNIM militants attacked a p...   \n",
              "3  Local partner-Other  Non-violent activity: On 4 October 2024, JNIM ...   \n",
              "4            New media  On 4 October 2024, students from the modern li...   \n",
              "\n",
              "  fatalities                  tags   timestamp  Region  \n",
              "0          5                   NaN  1728335020  Africa  \n",
              "1          0                   NaN  1728335020  Africa  \n",
              "2          0                   NaN  1728335020  Africa  \n",
              "3          0                   NaN  1728335020  Africa  \n",
              "4          0  crowd size=no report  1728335020  Africa  \n",
              "\n",
              "[5 rows x 32 columns]"
            ]
          },
          "execution_count": 78,
          "metadata": {},
          "output_type": "execute_result"
        }
      ],
      "source": [
        "# Previewing the first 5 observations of our merged datasets.\n",
        "combined_df.head()"
      ]
    },
    {
      "cell_type": "code",
      "execution_count": null,
      "metadata": {
        "colab": {
          "base_uri": "https://localhost:8080/"
        },
        "execution": {
          "iopub.execute_input": "2024-07-24T21:03:59.158227Z",
          "iopub.status.busy": "2024-07-24T21:03:59.157733Z",
          "iopub.status.idle": "2024-07-24T21:03:59.167117Z",
          "shell.execute_reply": "2024-07-24T21:03:59.165550Z",
          "shell.execute_reply.started": "2024-07-24T21:03:59.158184Z"
        },
        "id": "IQWGv5clGSHD",
        "outputId": "ccbd295b-c785-4183-ea79-92da6bb73656",
        "trusted": true
      },
      "outputs": [
        {
          "data": {
            "text/plain": [
              "Index(['event_id_cnty', 'event_date', 'year', 'time_precision',\n",
              "       'disorder_type', 'event_type', 'sub_event_type', 'actor1',\n",
              "       'assoc_actor_1', 'inter1', 'actor2', 'assoc_actor_2', 'inter2',\n",
              "       'interaction', 'civilian_targeting', 'iso', 'region', 'country',\n",
              "       'admin1', 'admin2', 'admin3', 'location', 'latitude', 'longitude',\n",
              "       'geo_precision', 'source', 'source_scale', 'notes', 'fatalities',\n",
              "       'tags', 'timestamp', 'Region'],\n",
              "      dtype='object')"
            ]
          },
          "execution_count": 79,
          "metadata": {},
          "output_type": "execute_result"
        }
      ],
      "source": [
        "# displaying our columns\n",
        "combined_df.columns\n"
      ]
    },
    {
      "cell_type": "code",
      "execution_count": null,
      "metadata": {
        "execution": {
          "iopub.execute_input": "2024-07-24T21:03:59.169113Z",
          "iopub.status.busy": "2024-07-24T21:03:59.168646Z",
          "iopub.status.idle": "2024-07-24T21:03:59.180878Z",
          "shell.execute_reply": "2024-07-24T21:03:59.179326Z",
          "shell.execute_reply.started": "2024-07-24T21:03:59.169072Z"
        },
        "id": "WobAPqx_GSHD",
        "trusted": true
      },
      "outputs": [],
      "source": [
        "# dropping a few columns\n",
        "\n",
        "drop_columns = ['event_id_cnty', 'assoc_actor_1', 'assoc_actor_2', 'admin3', 'source', 'source_scale', 'notes', 'tags', 'timestamp']\n"
      ]
    },
    {
      "cell_type": "code",
      "execution_count": null,
      "metadata": {
        "execution": {
          "iopub.execute_input": "2024-07-24T21:03:59.183040Z",
          "iopub.status.busy": "2024-07-24T21:03:59.182502Z",
          "iopub.status.idle": "2024-07-24T21:03:59.575219Z",
          "shell.execute_reply": "2024-07-24T21:03:59.573644Z",
          "shell.execute_reply.started": "2024-07-24T21:03:59.182997Z"
        },
        "id": "ij-bciilGSHE",
        "trusted": true
      },
      "outputs": [],
      "source": [
        "# Drop the columns\n",
        "combined_df = combined_df.drop(columns=drop_columns)"
      ]
    },
    {
      "cell_type": "code",
      "execution_count": null,
      "metadata": {
        "colab": {
          "base_uri": "https://localhost:8080/"
        },
        "execution": {
          "iopub.execute_input": "2024-07-24T21:03:59.582049Z",
          "iopub.status.busy": "2024-07-24T21:03:59.581587Z",
          "iopub.status.idle": "2024-07-24T21:03:59.589799Z",
          "shell.execute_reply": "2024-07-24T21:03:59.588316Z",
          "shell.execute_reply.started": "2024-07-24T21:03:59.582013Z"
        },
        "id": "peB5xD-aGSHE",
        "outputId": "2ec8896a-9449-4d09-bf23-eaf8b9c427c4",
        "trusted": true
      },
      "outputs": [
        {
          "data": {
            "text/plain": [
              "23"
            ]
          },
          "execution_count": 82,
          "metadata": {},
          "output_type": "execute_result"
        }
      ],
      "source": [
        "# current size of our columns after dropping\n",
        "combined_df.columns.size"
      ]
    },
    {
      "cell_type": "code",
      "execution_count": null,
      "metadata": {
        "colab": {
          "base_uri": "https://localhost:8080/"
        },
        "execution": {
          "iopub.execute_input": "2024-07-24T21:03:59.591881Z",
          "iopub.status.busy": "2024-07-24T21:03:59.591405Z",
          "iopub.status.idle": "2024-07-24T21:03:59.603918Z",
          "shell.execute_reply": "2024-07-24T21:03:59.602535Z",
          "shell.execute_reply.started": "2024-07-24T21:03:59.591845Z"
        },
        "id": "7dREEXcvGSHE",
        "outputId": "e41b573c-42a2-4883-e22f-3da341ad6b6c",
        "trusted": true
      },
      "outputs": [
        {
          "data": {
            "text/plain": [
              "Index(['event_date', 'year', 'time_precision', 'disorder_type', 'event_type',\n",
              "       'sub_event_type', 'actor1', 'inter1', 'actor2', 'inter2', 'interaction',\n",
              "       'civilian_targeting', 'iso', 'region', 'country', 'admin1', 'admin2',\n",
              "       'location', 'latitude', 'longitude', 'geo_precision', 'fatalities',\n",
              "       'Region'],\n",
              "      dtype='object')"
            ]
          },
          "execution_count": 83,
          "metadata": {},
          "output_type": "execute_result"
        }
      ],
      "source": [
        "# Current columns after dropping\n",
        "combined_df.columns"
      ]
    },
    {
      "cell_type": "markdown",
      "metadata": {
        "id": "ZcJ3YbZ0pMV9"
      },
      "source": []
    },
    {
      "cell_type": "code",
      "execution_count": null,
      "metadata": {
        "colab": {
          "base_uri": "https://localhost:8080/",
          "height": 805
        },
        "execution": {
          "iopub.execute_input": "2024-07-24T21:03:59.606329Z",
          "iopub.status.busy": "2024-07-24T21:03:59.605894Z",
          "iopub.status.idle": "2024-07-24T21:03:59.620669Z",
          "shell.execute_reply": "2024-07-24T21:03:59.619499Z",
          "shell.execute_reply.started": "2024-07-24T21:03:59.606286Z"
        },
        "id": "uU8GAUdNGSHF",
        "outputId": "a564f4d0-5493-4271-cb48-b5adaf63b63f",
        "trusted": true
      },
      "outputs": [
        {
          "data": {
            "text/html": [
              "<div>\n",
              "<style scoped>\n",
              "    .dataframe tbody tr th:only-of-type {\n",
              "        vertical-align: middle;\n",
              "    }\n",
              "\n",
              "    .dataframe tbody tr th {\n",
              "        vertical-align: top;\n",
              "    }\n",
              "\n",
              "    .dataframe thead th {\n",
              "        text-align: right;\n",
              "    }\n",
              "</style>\n",
              "<table border=\"1\" class=\"dataframe\">\n",
              "  <thead>\n",
              "    <tr style=\"text-align: right;\">\n",
              "      <th></th>\n",
              "      <th>0</th>\n",
              "    </tr>\n",
              "  </thead>\n",
              "  <tbody>\n",
              "    <tr>\n",
              "      <th>event_date</th>\n",
              "      <td>object</td>\n",
              "    </tr>\n",
              "    <tr>\n",
              "      <th>year</th>\n",
              "      <td>int64</td>\n",
              "    </tr>\n",
              "    <tr>\n",
              "      <th>time_precision</th>\n",
              "      <td>int64</td>\n",
              "    </tr>\n",
              "    <tr>\n",
              "      <th>disorder_type</th>\n",
              "      <td>object</td>\n",
              "    </tr>\n",
              "    <tr>\n",
              "      <th>event_type</th>\n",
              "      <td>object</td>\n",
              "    </tr>\n",
              "    <tr>\n",
              "      <th>sub_event_type</th>\n",
              "      <td>object</td>\n",
              "    </tr>\n",
              "    <tr>\n",
              "      <th>actor1</th>\n",
              "      <td>object</td>\n",
              "    </tr>\n",
              "    <tr>\n",
              "      <th>inter1</th>\n",
              "      <td>object</td>\n",
              "    </tr>\n",
              "    <tr>\n",
              "      <th>actor2</th>\n",
              "      <td>object</td>\n",
              "    </tr>\n",
              "    <tr>\n",
              "      <th>inter2</th>\n",
              "      <td>object</td>\n",
              "    </tr>\n",
              "    <tr>\n",
              "      <th>interaction</th>\n",
              "      <td>object</td>\n",
              "    </tr>\n",
              "    <tr>\n",
              "      <th>civilian_targeting</th>\n",
              "      <td>object</td>\n",
              "    </tr>\n",
              "    <tr>\n",
              "      <th>iso</th>\n",
              "      <td>int64</td>\n",
              "    </tr>\n",
              "    <tr>\n",
              "      <th>region</th>\n",
              "      <td>object</td>\n",
              "    </tr>\n",
              "    <tr>\n",
              "      <th>country</th>\n",
              "      <td>object</td>\n",
              "    </tr>\n",
              "    <tr>\n",
              "      <th>admin1</th>\n",
              "      <td>object</td>\n",
              "    </tr>\n",
              "    <tr>\n",
              "      <th>admin2</th>\n",
              "      <td>object</td>\n",
              "    </tr>\n",
              "    <tr>\n",
              "      <th>location</th>\n",
              "      <td>object</td>\n",
              "    </tr>\n",
              "    <tr>\n",
              "      <th>latitude</th>\n",
              "      <td>float64</td>\n",
              "    </tr>\n",
              "    <tr>\n",
              "      <th>longitude</th>\n",
              "      <td>float64</td>\n",
              "    </tr>\n",
              "    <tr>\n",
              "      <th>geo_precision</th>\n",
              "      <td>int64</td>\n",
              "    </tr>\n",
              "    <tr>\n",
              "      <th>fatalities</th>\n",
              "      <td>int64</td>\n",
              "    </tr>\n",
              "    <tr>\n",
              "      <th>Region</th>\n",
              "      <td>object</td>\n",
              "    </tr>\n",
              "  </tbody>\n",
              "</table>\n",
              "</div><br><label><b>dtype:</b> object</label>"
            ],
            "text/plain": [
              "event_date             object\n",
              "year                    int64\n",
              "time_precision          int64\n",
              "disorder_type          object\n",
              "event_type             object\n",
              "sub_event_type         object\n",
              "actor1                 object\n",
              "inter1                 object\n",
              "actor2                 object\n",
              "inter2                 object\n",
              "interaction            object\n",
              "civilian_targeting     object\n",
              "iso                     int64\n",
              "region                 object\n",
              "country                object\n",
              "admin1                 object\n",
              "admin2                 object\n",
              "location               object\n",
              "latitude              float64\n",
              "longitude             float64\n",
              "geo_precision           int64\n",
              "fatalities              int64\n",
              "Region                 object\n",
              "dtype: object"
            ]
          },
          "execution_count": 84,
          "metadata": {},
          "output_type": "execute_result"
        }
      ],
      "source": [
        "# checking the dtypes of these columns\n",
        "combined_df.dtypes"
      ]
    },
    {
      "cell_type": "code",
      "execution_count": null,
      "metadata": {
        "execution": {
          "iopub.execute_input": "2024-07-24T21:03:59.623375Z",
          "iopub.status.busy": "2024-07-24T21:03:59.622167Z",
          "iopub.status.idle": "2024-07-24T21:04:00.086544Z",
          "shell.execute_reply": "2024-07-24T21:04:00.085033Z",
          "shell.execute_reply.started": "2024-07-24T21:03:59.623334Z"
        },
        "id": "9uhtn8exGSHF",
        "trusted": true
      },
      "outputs": [],
      "source": [
        "# Convert event_date to datetime and set as index\n",
        "combined_df['event_date'] = pd.to_datetime(combined_df['event_date'])\n",
        "combined_df.set_index('event_date', inplace=True)"
      ]
    },
    {
      "cell_type": "code",
      "execution_count": null,
      "metadata": {
        "id": "9Y23OQQaYSi5"
      },
      "outputs": [],
      "source": [
        "# convert year to datetime dtype\n",
        "combined_df['year'] = pd.to_datetime(combined_df['year'])"
      ]
    },
    {
      "cell_type": "code",
      "execution_count": null,
      "metadata": {
        "colab": {
          "base_uri": "https://localhost:8080/"
        },
        "execution": {
          "iopub.execute_input": "2024-07-24T21:04:00.088172Z",
          "iopub.status.busy": "2024-07-24T21:04:00.087757Z",
          "iopub.status.idle": "2024-07-24T21:04:00.132686Z",
          "shell.execute_reply": "2024-07-24T21:04:00.131354Z",
          "shell.execute_reply.started": "2024-07-24T21:04:00.088138Z"
        },
        "id": "mYedjM_YGSHF",
        "outputId": "15aa7e0c-248d-44b2-e473-83507474c04b",
        "trusted": true
      },
      "outputs": [
        {
          "data": {
            "text/plain": [
              "DatetimeIndex(['2024-10-04', '2024-10-04', '2024-10-04', '2024-10-04',\n",
              "               '2024-10-04', '2024-10-04', '2024-10-04', '2024-10-04',\n",
              "               '2024-10-04', '2024-10-04',\n",
              "               ...\n",
              "               '2020-01-02', '2020-01-02', '2020-01-02', '2020-01-01',\n",
              "               '2020-01-01', '2020-01-01', '2020-01-01', '2020-01-01',\n",
              "               '2020-01-01', '2020-01-01'],\n",
              "              dtype='datetime64[ns]', name='event_date', length=2282666, freq=None)"
            ]
          },
          "execution_count": 87,
          "metadata": {},
          "output_type": "execute_result"
        }
      ],
      "source": [
        "combined_df.index"
      ]
    },
    {
      "cell_type": "code",
      "execution_count": null,
      "metadata": {
        "colab": {
          "base_uri": "https://localhost:8080/"
        },
        "execution": {
          "iopub.execute_input": "2024-07-24T21:04:00.134733Z",
          "iopub.status.busy": "2024-07-24T21:04:00.134250Z",
          "iopub.status.idle": "2024-07-24T21:04:02.806630Z",
          "shell.execute_reply": "2024-07-24T21:04:02.805143Z",
          "shell.execute_reply.started": "2024-07-24T21:04:00.134688Z"
        },
        "id": "aW3JpisLGSHG",
        "outputId": "1686a67b-e2c0-403a-d642-448fa0fde656",
        "trusted": true
      },
      "outputs": [
        {
          "name": "stdout",
          "output_type": "stream",
          "text": [
            "year                        0\n",
            "time_precision              0\n",
            "disorder_type               0\n",
            "event_type                  0\n",
            "sub_event_type              0\n",
            "actor1                      0\n",
            "inter1                      0\n",
            "actor2                1167358\n",
            "inter2                1167357\n",
            "interaction                 0\n",
            "civilian_targeting    1925089\n",
            "iso                         0\n",
            "region                      0\n",
            "country                     0\n",
            "admin1                    727\n",
            "admin2                  65305\n",
            "location                    0\n",
            "latitude                    0\n",
            "longitude                   0\n",
            "geo_precision               0\n",
            "fatalities                  0\n",
            "Region                      0\n",
            "dtype: int64\n"
          ]
        }
      ],
      "source": [
        "# Check for missing values\n",
        "missing_values = combined_df.isnull().sum()\n",
        "print(missing_values)"
      ]
    },
    {
      "cell_type": "code",
      "execution_count": null,
      "metadata": {
        "execution": {
          "iopub.execute_input": "2024-07-24T21:04:02.808376Z",
          "iopub.status.busy": "2024-07-24T21:04:02.808026Z",
          "iopub.status.idle": "2024-07-24T21:04:13.927089Z",
          "shell.execute_reply": "2024-07-24T21:04:13.925966Z",
          "shell.execute_reply.started": "2024-07-24T21:04:02.808346Z"
        },
        "id": "zDy4AbQ2GSHG",
        "trusted": true
      },
      "outputs": [],
      "source": [
        "# Handle missing values\n",
        "'''missing values in numeric columns are replaced with the mean of their respective columns,\n",
        "and missing values in categorical columns are replaced with the most frequently occurring value.'''\n",
        "\n",
        "numeric_features = combined_df.select_dtypes(include=[np.number]).columns\n",
        "categorical_features = combined_df.select_dtypes(include=['object', 'category']).columns\n",
        "\n",
        "numeric_imputer = SimpleImputer(strategy='mean')\n",
        "combined_df[numeric_features] = numeric_imputer.fit_transform(combined_df[numeric_features])\n",
        "\n",
        "categorical_imputer = SimpleImputer(strategy='most_frequent')\n",
        "combined_df[categorical_features] = categorical_imputer.fit_transform(combined_df[categorical_features])"
      ]
    },
    {
      "cell_type": "code",
      "execution_count": null,
      "metadata": {
        "colab": {
          "base_uri": "https://localhost:8080/"
        },
        "execution": {
          "iopub.execute_input": "2024-07-24T21:04:13.928982Z",
          "iopub.status.busy": "2024-07-24T21:04:13.928598Z",
          "iopub.status.idle": "2024-07-24T21:04:16.739035Z",
          "shell.execute_reply": "2024-07-24T21:04:16.737508Z",
          "shell.execute_reply.started": "2024-07-24T21:04:13.928950Z"
        },
        "id": "L0LTV7k2GSHG",
        "outputId": "eca38730-ca8f-40b3-fbf2-f2b3a7858318",
        "trusted": true
      },
      "outputs": [
        {
          "name": "stdout",
          "output_type": "stream",
          "text": [
            "Missing Values:\n",
            " year                  0\n",
            "time_precision        0\n",
            "disorder_type         0\n",
            "event_type            0\n",
            "sub_event_type        0\n",
            "actor1                0\n",
            "inter1                0\n",
            "actor2                0\n",
            "inter2                0\n",
            "interaction           0\n",
            "civilian_targeting    0\n",
            "iso                   0\n",
            "region                0\n",
            "country               0\n",
            "admin1                0\n",
            "admin2                0\n",
            "location              0\n",
            "latitude              0\n",
            "longitude             0\n",
            "geo_precision         0\n",
            "fatalities            0\n",
            "Region                0\n",
            "dtype: int64\n"
          ]
        }
      ],
      "source": [
        "# Check for missing values again\n",
        "missing_values = combined_df.isnull().sum()\n",
        "print(\"Missing Values:\\n\", missing_values)"
      ]
    },
    {
      "cell_type": "code",
      "execution_count": null,
      "metadata": {
        "colab": {
          "base_uri": "https://localhost:8080/"
        },
        "execution": {
          "iopub.execute_input": "2024-07-24T21:04:16.741483Z",
          "iopub.status.busy": "2024-07-24T21:04:16.740958Z",
          "iopub.status.idle": "2024-07-24T21:04:19.571752Z",
          "shell.execute_reply": "2024-07-24T21:04:19.570462Z",
          "shell.execute_reply.started": "2024-07-24T21:04:16.741422Z"
        },
        "id": "hmRaOK0YGSHG",
        "outputId": "0dc4cbf6-4e5a-4601-fc51-46c1311d5018",
        "trusted": true
      },
      "outputs": [
        {
          "name": "stdout",
          "output_type": "stream",
          "text": [
            "\n",
            "NaN Values:\n",
            " year                  0\n",
            "time_precision        0\n",
            "disorder_type         0\n",
            "event_type            0\n",
            "sub_event_type        0\n",
            "actor1                0\n",
            "inter1                0\n",
            "actor2                0\n",
            "inter2                0\n",
            "interaction           0\n",
            "civilian_targeting    0\n",
            "iso                   0\n",
            "region                0\n",
            "country               0\n",
            "admin1                0\n",
            "admin2                0\n",
            "location              0\n",
            "latitude              0\n",
            "longitude             0\n",
            "geo_precision         0\n",
            "fatalities            0\n",
            "Region                0\n",
            "dtype: int64\n"
          ]
        }
      ],
      "source": [
        "# Check for NaN values\n",
        "nan_values = combined_df.isna().sum()\n",
        "print(\"\\nNaN Values:\\n\", nan_values)"
      ]
    },
    {
      "cell_type": "code",
      "execution_count": null,
      "metadata": {
        "colab": {
          "base_uri": "https://localhost:8080/"
        },
        "execution": {
          "iopub.execute_input": "2024-07-24T21:04:19.573651Z",
          "iopub.status.busy": "2024-07-24T21:04:19.573260Z",
          "iopub.status.idle": "2024-07-24T21:04:23.274765Z",
          "shell.execute_reply": "2024-07-24T21:04:23.273334Z",
          "shell.execute_reply.started": "2024-07-24T21:04:19.573614Z"
        },
        "id": "gZiDOJ5vGSHH",
        "outputId": "64e69763-0902-42c1-82e1-801c792ca543",
        "trusted": true
      },
      "outputs": [
        {
          "name": "stdout",
          "output_type": "stream",
          "text": [
            "\n",
            "Duplicate Rows: 1246397\n"
          ]
        }
      ],
      "source": [
        "# Check for duplicates\n",
        "duplicates = combined_df.duplicated().sum()\n",
        "print(\"\\nDuplicate Rows:\", duplicates)\n"
      ]
    },
    {
      "cell_type": "code",
      "execution_count": null,
      "metadata": {
        "execution": {
          "iopub.execute_input": "2024-07-24T21:04:23.276850Z",
          "iopub.status.busy": "2024-07-24T21:04:23.276431Z",
          "iopub.status.idle": "2024-07-24T21:04:27.400112Z",
          "shell.execute_reply": "2024-07-24T21:04:27.398559Z",
          "shell.execute_reply.started": "2024-07-24T21:04:23.276816Z"
        },
        "id": "Z0PdfU5RGSHH",
        "trusted": true
      },
      "outputs": [],
      "source": [
        "# Drop duplicate rows\n",
        "combined_df = combined_df.drop_duplicates()"
      ]
    },
    {
      "cell_type": "code",
      "execution_count": null,
      "metadata": {
        "colab": {
          "base_uri": "https://localhost:8080/"
        },
        "execution": {
          "iopub.execute_input": "2024-07-24T21:04:27.402699Z",
          "iopub.status.busy": "2024-07-24T21:04:27.402183Z",
          "iopub.status.idle": "2024-07-24T21:04:27.410310Z",
          "shell.execute_reply": "2024-07-24T21:04:27.408259Z",
          "shell.execute_reply.started": "2024-07-24T21:04:27.402653Z"
        },
        "id": "LQhFVhn0GSHH",
        "outputId": "5ef3a2a0-eb70-4810-95b6-c2db1627c747",
        "trusted": true
      },
      "outputs": [
        {
          "name": "stdout",
          "output_type": "stream",
          "text": [
            "Number of rows after dropping duplicates: 1036269\n"
          ]
        }
      ],
      "source": [
        "# Check the number of rows after dropping duplicates\n",
        "print(\"Number of rows after dropping duplicates:\", len(combined_df))"
      ]
    },
    {
      "cell_type": "code",
      "execution_count": null,
      "metadata": {
        "colab": {
          "base_uri": "https://localhost:8080/"
        },
        "execution": {
          "iopub.execute_input": "2024-07-24T21:04:27.412782Z",
          "iopub.status.busy": "2024-07-24T21:04:27.412338Z",
          "iopub.status.idle": "2024-07-24T21:04:27.426980Z",
          "shell.execute_reply": "2024-07-24T21:04:27.424887Z",
          "shell.execute_reply.started": "2024-07-24T21:04:27.412749Z"
        },
        "id": "WxA0z2osGSHH",
        "outputId": "4d9dbc56-3ce2-477f-cd92-828db8d5cb5a",
        "trusted": true
      },
      "outputs": [
        {
          "data": {
            "text/plain": [
              "(1036269, 22)"
            ]
          },
          "execution_count": 95,
          "metadata": {},
          "output_type": "execute_result"
        }
      ],
      "source": [
        "combined_df.shape"
      ]
    },
    {
      "cell_type": "code",
      "execution_count": null,
      "metadata": {
        "execution": {
          "iopub.execute_input": "2024-07-24T21:04:27.428930Z",
          "iopub.status.busy": "2024-07-24T21:04:27.428378Z",
          "iopub.status.idle": "2024-07-24T21:04:27.447261Z",
          "shell.execute_reply": "2024-07-24T21:04:27.445583Z",
          "shell.execute_reply.started": "2024-07-24T21:04:27.428892Z"
        },
        "id": "PxIwUqEIGSHH",
        "trusted": true
      },
      "outputs": [],
      "source": [
        "combined_df['fatalities'] = combined_df['fatalities'].astype(int)"
      ]
    },
    {
      "cell_type": "code",
      "execution_count": null,
      "metadata": {
        "colab": {
          "base_uri": "https://localhost:8080/"
        },
        "execution": {
          "iopub.execute_input": "2024-07-24T21:04:27.449570Z",
          "iopub.status.busy": "2024-07-24T21:04:27.449047Z",
          "iopub.status.idle": "2024-07-24T21:04:27.464926Z",
          "shell.execute_reply": "2024-07-24T21:04:27.463186Z",
          "shell.execute_reply.started": "2024-07-24T21:04:27.449524Z"
        },
        "id": "QBjUkWQjGSHI",
        "outputId": "d18d4f84-132a-4833-e68b-7cc7e51e1687",
        "trusted": true
      },
      "outputs": [
        {
          "data": {
            "text/plain": [
              "dtype('int64')"
            ]
          },
          "execution_count": 97,
          "metadata": {},
          "output_type": "execute_result"
        }
      ],
      "source": [
        "combined_df['fatalities'].dtype"
      ]
    },
    {
      "cell_type": "code",
      "execution_count": null,
      "metadata": {
        "colab": {
          "base_uri": "https://localhost:8080/"
        },
        "id": "N8RDzfhHGSHI",
        "outputId": "a0dc93b0-0867-4da0-9905-b5fc451034d5"
      },
      "outputs": [
        {
          "name": "stdout",
          "output_type": "stream",
          "text": [
            "\n",
            "Top 10 outliers:\n",
            "                                    year  time_precision       disorder_type  \\\n",
            "event_date                                                                     \n",
            "2019-01-15 1970-01-01 00:00:00.000002019             2.0  Political violence   \n",
            "1999-04-21 1970-01-01 00:00:00.000001999             1.0  Political violence   \n",
            "2000-06-20 1970-01-01 00:00:00.000002000             3.0  Political violence   \n",
            "2012-01-04 1970-01-01 00:00:00.000002012             1.0  Political violence   \n",
            "2000-06-20 1970-01-01 00:00:00.000002000             3.0  Political violence   \n",
            "2000-06-20 1970-01-01 00:00:00.000002000             3.0  Political violence   \n",
            "1999-04-15 1970-01-01 00:00:00.000001999             1.0  Political violence   \n",
            "1999-04-15 1970-01-01 00:00:00.000001999             1.0  Political violence   \n",
            "2021-07-24 1970-01-01 00:00:00.000002021             1.0  Political violence   \n",
            "2013-12-16 1970-01-01 00:00:00.000002013             1.0  Political violence   \n",
            "\n",
            "                            event_type sub_event_type  \\\n",
            "event_date                                              \n",
            "2019-01-15  Violence against civilians         Attack   \n",
            "1999-04-21  Violence against civilians         Attack   \n",
            "2000-06-20  Violence against civilians         Attack   \n",
            "2012-01-04  Violence against civilians         Attack   \n",
            "2000-06-20  Violence against civilians         Attack   \n",
            "2000-06-20  Violence against civilians         Attack   \n",
            "1999-04-15  Violence against civilians         Attack   \n",
            "1999-04-15  Violence against civilians         Attack   \n",
            "2021-07-24  Violence against civilians         Attack   \n",
            "2013-12-16  Violence against civilians         Attack   \n",
            "\n",
            "                                                       actor1  \\\n",
            "event_date                                                      \n",
            "2019-01-15                     Rek Clan Militia (South Sudan)   \n",
            "1999-04-21  UNITA: National Union for the Total Independen...   \n",
            "2000-06-20  UNITA: National Union for the Total Independen...   \n",
            "2012-01-04                     Lou Clan Militia (South Sudan)   \n",
            "2000-06-20  UNITA: National Union for the Total Independen...   \n",
            "2000-06-20  UNITA: National Union for the Total Independen...   \n",
            "1999-04-15            Military Forces of Ethiopia (1991-2018)   \n",
            "1999-04-15            Military Forces of Ethiopia (1991-2018)   \n",
            "2021-07-24                     Afar Ethnic Militia (Ethiopia)   \n",
            "2013-12-16               Police Forces of South Sudan (2011-)   \n",
            "\n",
            "                           inter1                   actor2     inter2  \\\n",
            "event_date                                                              \n",
            "2019-01-15       Identity militia  Civilians (South Sudan)  Civilians   \n",
            "1999-04-21            Rebel group       Civilians (Angola)  Civilians   \n",
            "2000-06-20            Rebel group       Civilians (Angola)  Civilians   \n",
            "2012-01-04       Identity militia  Civilians (South Sudan)  Civilians   \n",
            "2000-06-20            Rebel group       Civilians (Angola)  Civilians   \n",
            "2000-06-20            Rebel group       Civilians (Angola)  Civilians   \n",
            "1999-04-15  External/Other forces      Civilians (Eritrea)  Civilians   \n",
            "1999-04-15  External/Other forces      Civilians (Eritrea)  Civilians   \n",
            "2021-07-24       Identity militia     Civilians (Ethiopia)  Civilians   \n",
            "2013-12-16           State forces  Civilians (South Sudan)  Civilians   \n",
            "\n",
            "                                interaction  ...             admin1  \\\n",
            "event_date                                   ...                      \n",
            "2019-01-15       Identity militia-Civilians  ...              Unity   \n",
            "1999-04-21            Rebel group-Civilians  ...                Bie   \n",
            "2000-06-20            Rebel group-Civilians  ...                Bie   \n",
            "2012-01-04       Identity militia-Civilians  ...            Jonglei   \n",
            "2000-06-20            Rebel group-Civilians  ...                Bie   \n",
            "2000-06-20            Rebel group-Civilians  ...         Cuanza Sul   \n",
            "1999-04-15  External/Other forces-Civilians  ...              Debub   \n",
            "1999-04-15  External/Other forces-Civilians  ...         Gash Barka   \n",
            "2021-07-24       Identity militia-Civilians  ...               Afar   \n",
            "2013-12-16           State forces-Civilians  ...  Central Equatoria   \n",
            "\n",
            "                 admin2   location latitude longitude geo_precision  \\\n",
            "event_date                                                            \n",
            "2019-01-15        Mayom      Mayom   9.2264   29.1671           2.0   \n",
            "1999-04-21        Cuito      Cuito -12.3833   16.9333           1.0   \n",
            "2000-06-20     Camacupa     Capite -12.0166   17.7000           1.0   \n",
            "2012-01-04        Pibor      Pibor   6.7984   33.1308           1.0   \n",
            "2000-06-20     Camacupa   Camacupa -12.0166   17.4833           1.0   \n",
            "2000-06-20    Cassongue   Chivango -11.8500   15.1000           1.0   \n",
            "1999-04-15     Adi Keih  Adi Keyih  14.8333   39.3667           1.0   \n",
            "1999-04-15        Forto       Sawa  15.9064   36.9992           1.0   \n",
            "2021-07-24  Gabi-Zone 3  Gadamaitu   9.7409   40.4597           1.0   \n",
            "2013-12-16         Juba     Gudele   4.8677   31.5467           1.0   \n",
            "\n",
            "           fatalities  Region  outlier_score  outlier  \n",
            "event_date                                             \n",
            "2019-01-15        270  Africa      -0.269527       -1  \n",
            "1999-04-21       1000  Africa      -0.269527       -1  \n",
            "2000-06-20        400  Africa      -0.269527       -1  \n",
            "2012-01-04        597  Africa      -0.269527       -1  \n",
            "2000-06-20        400  Africa      -0.269527       -1  \n",
            "2000-06-20        400  Africa      -0.269527       -1  \n",
            "1999-04-15        923  Africa      -0.269527       -1  \n",
            "1999-04-15        923  Africa      -0.269527       -1  \n",
            "2021-07-24        300  Africa      -0.269527       -1  \n",
            "2013-12-16        300  Africa      -0.269527       -1  \n",
            "\n",
            "[10 rows x 24 columns]\n"
          ]
        }
      ],
      "source": [
        "\n",
        "from sklearn.ensemble import IsolationForest\n",
        "\n",
        "# Select features for outlier detection (fatalities and event_type)\n",
        "features = ['fatalities', 'event_type']\n",
        "X = combined_df[features].reset_index(drop=True) # Reset the index to be unique\n",
        "\n",
        "# Encode the 'event_type' column using one-hot encoding\n",
        "encoder = OneHotEncoder(handle_unknown='ignore', sparse_output=False)\n",
        "encoded_event_type = encoder.fit_transform(X[['event_type']])\n",
        "encoded_df = pd.DataFrame(encoded_event_type, columns=encoder.get_feature_names_out(['event_type']))\n",
        "X = pd.concat([X.drop('event_type', axis=1), encoded_df], axis=1)\n",
        "\n",
        "# Initialize and train the Isolation Forest model\n",
        "model = IsolationForest(contamination='auto', random_state=42) # Adjust contamination if needed\n",
        "model.fit(X)\n",
        "\n",
        "# Predict outlier scores\n",
        "combined_df['outlier_score'] = model.decision_function(X)\n",
        "combined_df['outlier'] = model.predict(X) # 1 for inliers, -1 for outliers\n",
        "\n",
        "# Displaying some outlier examples (adjust n_outliers as desired)\n",
        "n_outliers = 10\n",
        "outliers = combined_df[combined_df['outlier'] == -1].sort_values('outlier_score')\n",
        "print(f\"\\nTop {n_outliers} outliers:\")\n",
        "print(outliers.head(n_outliers))"
      ]
    },
    {
      "cell_type": "markdown",
      "metadata": {
        "id": "Yt53_mmLhMT1"
      },
      "source": [
        "**Summary of Top 10 Outliers:**\n",
        "\n",
        "Key Characteristics:\n",
        "\n",
        "  **High Fatalities**: All identified events involve a significantly high number of fatalities, ranging from 130 to 267, suggesting a severe impact.\n",
        "  \n",
        "  **Predominantly African Context:** The majority of these outlier events occurred in Africa, indicating a potential regional concentration of such severe incidents.\n",
        "  \n",
        "  **Focus on \"Violence Against Civilians\":** All events fall under the \"Political violence\" category and specifically target civilians, highlighting a pattern of widespread civilian harm.\n",
        "\n",
        "\n",
        "---\n",
        "\n",
        "\n",
        "\n",
        "Interpretation:\n",
        "\n",
        "---\n",
        "\n",
        "\n",
        "\n",
        "  These outliers, identified by the Isolation Forest model, likely represent genuine anomalies within the dataset. They signify events with exceptionally high casualty numbers, deviating significantly from the typical patterns observed in the data. These events may represent:\n",
        "\n",
        "  - Major Massacres or Atrocities: Events with a large-scale loss of civilian life.\n",
        "  - Significant Armed Conflicts: Periods of intense violence resulting in numerous civilian casualties.\n"
      ]
    },
    {
      "cell_type": "code",
      "execution_count": null,
      "metadata": {
        "id": "K_qXwd7ZhK1Z"
      },
      "outputs": [],
      "source": []
    },
    {
      "cell_type": "markdown",
      "metadata": {
        "id": "4llSY4w9GSHJ"
      },
      "source": [
        "# **Model Selection, Training and Evaluation.**"
      ]
    },
    {
      "cell_type": "markdown",
      "metadata": {
        "id": "hymhQu3EGSHJ"
      },
      "source": [
        "We train a Random Forest model to predict the region (encoded) based on the features related to fatalities,event types, and their interactions."
      ]
    },
    {
      "cell_type": "code",
      "execution_count": null,
      "metadata": {
        "execution": {
          "iopub.execute_input": "2024-07-24T21:04:27.467726Z",
          "iopub.status.busy": "2024-07-24T21:04:27.467301Z",
          "iopub.status.idle": "2024-07-24T21:04:27.680214Z",
          "shell.execute_reply": "2024-07-24T21:04:27.678920Z",
          "shell.execute_reply.started": "2024-07-24T21:04:27.467681Z"
        },
        "id": "viJTIEPKGSHJ",
        "trusted": true
      },
      "outputs": [],
      "source": [
        "from sklearn.preprocessing import LabelEncoder # Import the LabelEncoder class\n"
      ]
    },
    {
      "cell_type": "code",
      "execution_count": null,
      "metadata": {
        "execution": {
          "iopub.execute_input": "2024-07-24T21:04:27.683060Z",
          "iopub.status.busy": "2024-07-24T21:04:27.682062Z",
          "iopub.status.idle": "2024-07-24T21:04:28.289845Z",
          "shell.execute_reply": "2024-07-24T21:04:28.288278Z",
          "shell.execute_reply.started": "2024-07-24T21:04:27.683011Z"
        },
        "id": "qQ05Cd4cGSHK",
        "trusted": true
      },
      "outputs": [],
      "source": [
        "# Encode categorical variables\n",
        "le = LabelEncoder()\n",
        "combined_df['region_encoded'] = le.fit_transform(combined_df['Region'])\n",
        "combined_df['event_encoded'] = le.fit_transform(combined_df['event_type'])"
      ]
    },
    {
      "cell_type": "markdown",
      "metadata": {
        "id": "d5zGUNIgexlX"
      },
      "source": [
        "Log Transformation: Applied to the 'fatalities' column to potentially reduce skewness and stabilize variance, potentially improving model performance.\n",
        "\n",
        "Interaction Term Creation: A new feature ('region_event_interaction') is created by multiplying 'region_encoded' and 'event_encoded', capturing the combined effect of these two variables on the target variable."
      ]
    },
    {
      "cell_type": "code",
      "execution_count": null,
      "metadata": {
        "execution": {
          "iopub.execute_input": "2024-07-24T21:04:28.294146Z",
          "iopub.status.busy": "2024-07-24T21:04:28.293584Z",
          "iopub.status.idle": "2024-07-24T21:04:28.324062Z",
          "shell.execute_reply": "2024-07-24T21:04:28.322348Z",
          "shell.execute_reply.started": "2024-07-24T21:04:28.294089Z"
        },
        "id": "vqkilX26GSHK",
        "trusted": true
      },
      "outputs": [],
      "source": [
        "# Feature engineering\n",
        "combined_df['log_fatalities'] = np.log1p(combined_df['fatalities'])\n",
        "combined_df['region_event_interaction'] = combined_df['region_encoded'] * combined_df['event_encoded']"
      ]
    },
    {
      "cell_type": "code",
      "execution_count": null,
      "metadata": {
        "id": "F6a9y80C9i94"
      },
      "outputs": [],
      "source": []
    },
    {
      "cell_type": "code",
      "execution_count": null,
      "metadata": {
        "execution": {
          "iopub.execute_input": "2024-07-24T21:04:28.326391Z",
          "iopub.status.busy": "2024-07-24T21:04:28.325895Z",
          "iopub.status.idle": "2024-07-24T21:04:28.349083Z",
          "shell.execute_reply": "2024-07-24T21:04:28.347262Z",
          "shell.execute_reply.started": "2024-07-24T21:04:28.326345Z"
        },
        "id": "fEyYZ2qFGSHK",
        "trusted": true
      },
      "outputs": [],
      "source": [
        "# Prepare features and target\n",
        "X = combined_df[['fatalities', 'log_fatalities' , 'event_encoded', 'region_event_interaction']]\n",
        "y = combined_df['region_encoded']"
      ]
    },
    {
      "cell_type": "code",
      "execution_count": null,
      "metadata": {
        "execution": {
          "iopub.execute_input": "2024-07-24T21:04:28.351181Z",
          "iopub.status.busy": "2024-07-24T21:04:28.350793Z",
          "iopub.status.idle": "2024-07-24T21:04:28.584536Z",
          "shell.execute_reply": "2024-07-24T21:04:28.582588Z",
          "shell.execute_reply.started": "2024-07-24T21:04:28.351150Z"
        },
        "id": "IOTyOfWFGSHL",
        "trusted": true
      },
      "outputs": [],
      "source": [
        "# Split the data - 80:20\n",
        "X_train, X_test, y_train, y_test = train_test_split(X, y, test_size=0.2, random_state=42)\n"
      ]
    },
    {
      "cell_type": "code",
      "execution_count": null,
      "metadata": {
        "id": "Mxftv2yo-ZuH"
      },
      "outputs": [],
      "source": [
        "# Scale numerical features\n",
        "scaler = StandardScaler()\n",
        "X_train_scaled = scaler.fit_transform(X_train)\n",
        "X_test_scaled = scaler.transform(X_test)"
      ]
    },
    {
      "cell_type": "markdown",
      "metadata": {
        "id": "xz-IZzoEAYWT"
      },
      "source": [
        "### Cross Validation"
      ]
    },
    {
      "cell_type": "code",
      "execution_count": null,
      "metadata": {
        "colab": {
          "base_uri": "https://localhost:8080/"
        },
        "id": "-kKm07k0AYAG",
        "outputId": "abe5e79d-8a36-47e4-a074-5b51e0461a1f"
      },
      "outputs": [
        {
          "name": "stdout",
          "output_type": "stream",
          "text": [
            "Fold 1 accuracy: 0.8528\n",
            "Fold 2 accuracy: 0.8527\n",
            "Fold 3 accuracy: 0.8521\n",
            "Fold 4 accuracy: 0.8532\n",
            "Fold 5 accuracy: 0.8535\n"
          ]
        }
      ],
      "source": [
        "# Initialize K-Fold cross-validator\n",
        "kf = KFold(n_splits=5, shuffle=True, random_state=42)\n",
        "\n",
        "# Store fold accuracy scores\n",
        "fold_accuracies = []\n",
        "\n",
        "# K-Fold Cross-Validation\n",
        "for fold, (train_index, val_index) in enumerate(kf.split(X_train_scaled)):\n",
        "    # Split the data into training and validation sets for this fold\n",
        "    X_fold_train, X_fold_val = X_train_scaled[train_index], X_train_scaled[val_index]\n",
        "    y_fold_train, y_fold_val = y_train.iloc[train_index], y_train.iloc[val_index]\n",
        "\n",
        "    # Train Random Forest model on the fold's training set\n",
        "    rf_model = RandomForestClassifier(n_estimators=100, random_state=42)\n",
        "    rf_model.fit(X_fold_train, y_fold_train)\n",
        "\n",
        "    # Predict on the validation set\n",
        "    fold_predictions = rf_model.predict(X_fold_val)\n",
        "\n",
        "    # Compute fold accuracy\n",
        "    fold_accuracy = accuracy_score(y_fold_val, fold_predictions)\n",
        "    fold_accuracies.append(fold_accuracy)\n",
        "    print(f\"Fold {fold + 1} accuracy: {fold_accuracy:.4f}\")\n"
      ]
    },
    {
      "cell_type": "code",
      "execution_count": null,
      "metadata": {
        "colab": {
          "base_uri": "https://localhost:8080/"
        },
        "id": "XpAZrHr7-sdt",
        "outputId": "55f05768-9e55-4b5a-89f8-b059af06b4c0"
      },
      "outputs": [
        {
          "name": "stdout",
          "output_type": "stream",
          "text": [
            "\n",
            "K-Fold Cross-Validation Results:\n",
            "Mean accuracy: 0.8529\n",
            "Standard deviation of accuracy: 0.0005\n"
          ]
        }
      ],
      "source": [
        "# Compute mean and standard deviation of fold accuracies\n",
        "mean_accuracy = np.mean(fold_accuracies)\n",
        "std_accuracy = np.std(fold_accuracies)\n",
        "\n",
        "print(f\"\\nK-Fold Cross-Validation Results:\")\n",
        "print(f\"Mean accuracy: {mean_accuracy:.4f}\")\n",
        "print(f\"Standard deviation of accuracy: {std_accuracy:.4f}\")\n"
      ]
    },
    {
      "cell_type": "markdown",
      "metadata": {
        "id": "E6Jn-KSsHv0I"
      },
      "source": [
        "K-Fold Cross-Validation Results:\n",
        "Mean Accuracy: 85.29%\n",
        "\n",
        "This represents the average accuracy of our model across all the folds. The model is performing quite well, with an accuracy of over 85%. This suggests that the model is able to generalize well across different subsets of the data.\n",
        "\n",
        "\n",
        "Standard Deviation of Accuracy: 0.0005\n",
        "\n",
        "This indicates very little variation in accuracy between the different folds. A low standard deviation suggests that your model is consistent in its predictions, with minimal fluctuations in performance across the different folds of the data."
      ]
    },
    {
      "cell_type": "code",
      "execution_count": null,
      "metadata": {
        "colab": {
          "base_uri": "https://localhost:8080/",
          "height": 35
        },
        "execution": {
          "iopub.execute_input": "2024-07-24T21:04:28.586700Z",
          "iopub.status.busy": "2024-07-24T21:04:28.586221Z",
          "iopub.status.idle": "2024-07-24T21:05:49.652046Z",
          "shell.execute_reply": "2024-07-24T21:05:49.650167Z",
          "shell.execute_reply.started": "2024-07-24T21:04:28.586653Z"
        },
        "id": "xSjwQykSGSHL",
        "outputId": "30ef3f1c-7e14-469a-a6c8-b9085259c74b",
        "trusted": true
      },
      "outputs": [
        {
          "data": {
            "application/vnd.google.colaboratory.intrinsic+json": {
              "type": "string"
            },
            "text/plain": [
              "'trains our Random Forest model to predict the region (encoded) based on the features related to fatalities,\\nevent types, and their interactions. '"
            ]
          },
          "execution_count": 107,
          "metadata": {},
          "output_type": "execute_result"
        }
      ],
      "source": [
        "\"\"\"trains our Random Forest model to predict the region (encoded) based on the features related to fatalities,\n",
        "event types, and their interactions. \"\"\"\n"
      ]
    },
    {
      "cell_type": "code",
      "execution_count": null,
      "metadata": {
        "colab": {
          "base_uri": "https://localhost:8080/"
        },
        "id": "QJ4jteeZ-wku",
        "outputId": "0b11bbb8-50d0-406a-f52d-338b15513f44"
      },
      "outputs": [
        {
          "name": "stdout",
          "output_type": "stream",
          "text": [
            "\n",
            "Final Test Set Accuracy: 0.8538\n"
          ]
        }
      ],
      "source": [
        "# Train the final model on the full training set\n",
        "rf_model.fit(X_train_scaled, y_train)\n",
        "\n",
        "# Evaluate on the test set\n",
        "test_predictions = rf_model.predict(X_test_scaled)\n",
        "test_accuracy = accuracy_score(y_test, test_predictions)\n",
        "\n",
        "print(f\"\\nFinal Test Set Accuracy: {test_accuracy:.4f}\")\n"
      ]
    },
    {
      "cell_type": "code",
      "execution_count": null,
      "metadata": {
        "execution": {
          "iopub.execute_input": "2024-07-24T21:08:45.939511Z",
          "iopub.status.busy": "2024-07-24T21:08:45.938997Z",
          "iopub.status.idle": "2024-07-24T21:08:45.947700Z",
          "shell.execute_reply": "2024-07-24T21:08:45.945934Z",
          "shell.execute_reply.started": "2024-07-24T21:08:45.939439Z"
        },
        "id": "T6dGfMP_GSHL",
        "trusted": true
      },
      "outputs": [],
      "source": [
        "# Define class labels\n",
        "class_labels = [\n",
        "    \"Africa\",\n",
        "    \"Asia\",\n",
        "    \"Middle East\",\n",
        "    \"Latin America\",\n",
        "    \"Europe\",\n",
        "    \"USA/Canada\"\n",
        "]"
      ]
    },
    {
      "cell_type": "markdown",
      "metadata": {
        "id": "f4vZCn8UCJFq"
      },
      "source": [
        "### Model Evaluation"
      ]
    },
    {
      "cell_type": "code",
      "execution_count": null,
      "metadata": {
        "colab": {
          "base_uri": "https://localhost:8080/"
        },
        "execution": {
          "iopub.execute_input": "2024-07-24T21:08:52.209946Z",
          "iopub.status.busy": "2024-07-24T21:08:52.209483Z",
          "iopub.status.idle": "2024-07-24T21:08:52.648286Z",
          "shell.execute_reply": "2024-07-24T21:08:52.647204Z",
          "shell.execute_reply.started": "2024-07-24T21:08:52.209910Z"
        },
        "id": "iooczB23GSHM",
        "outputId": "e05d6202-7db2-4d9f-99f9-d64ca210e7ec",
        "trusted": true
      },
      "outputs": [
        {
          "name": "stdout",
          "output_type": "stream",
          "text": [
            "               precision    recall  f1-score   support\n",
            "\n",
            "       Africa       0.71      0.93      0.80     56124\n",
            "         Asia       0.97      0.80      0.88     52521\n",
            "  Middle East       1.00      0.90      0.95     21345\n",
            "Latin America       0.81      0.87      0.84     31215\n",
            "       Europe       0.97      0.76      0.85     41875\n",
            "   USA/Canada       1.00      1.00      1.00      4174\n",
            "\n",
            "     accuracy                           0.85    207254\n",
            "    macro avg       0.91      0.88      0.89    207254\n",
            " weighted avg       0.88      0.85      0.86    207254\n",
            "\n"
          ]
        }
      ],
      "source": [
        "# Evaluate the model\n",
        "print(classification_report(\n",
        "    y_test,\n",
        "    predictions,\n",
        "    target_names=class_labels\n",
        "))"
      ]
    },
    {
      "cell_type": "markdown",
      "metadata": {
        "id": "UTBbJ_nUgwKS"
      },
      "source": [
        "Overall Performance:\n",
        "\n",
        "The model appears to have achieved good overall accuracy (0.85).\n",
        "Some classes exhibit higher precision and recall than others.\n",
        "The macro and weighted averages suggest a generally good performance across all classes."
      ]
    },
    {
      "cell_type": "code",
      "execution_count": null,
      "metadata": {
        "colab": {
          "base_uri": "https://localhost:8080/"
        },
        "id": "UunbKeY0C64G",
        "outputId": "20391b38-b3ce-45a3-a80f-45520239faee"
      },
      "outputs": [
        {
          "name": "stdout",
          "output_type": "stream",
          "text": [
            "Confusion Matrix as NumPy Array:\n",
            "[[52340   806    13  2409   556     0]\n",
            " [ 8266 42183     1  1856   215     0]\n",
            " [ 1755   127 19187   194    82     0]\n",
            " [ 3972    55     0 27184     4     0]\n",
            " [ 7836   414     3  1736 31886     0]\n",
            " [    4     0     0     3     0  4167]]\n"
          ]
        }
      ],
      "source": [
        "from sklearn.metrics import confusion_matrix, ConfusionMatrixDisplay\n",
        "# Generate the confusion matrix as a NumPy array\n",
        "conf_matrix = confusion_matrix(y_test, test_predictions)\n",
        "\n",
        "# Display the NumPy array\n",
        "print(\"Confusion Matrix as NumPy Array:\")\n",
        "print(conf_matrix)"
      ]
    },
    {
      "cell_type": "code",
      "execution_count": null,
      "metadata": {
        "colab": {
          "base_uri": "https://localhost:8080/",
          "height": 237
        },
        "execution": {
          "iopub.execute_input": "2024-07-24T21:09:13.009122Z",
          "iopub.status.busy": "2024-07-24T21:09:13.008676Z",
          "iopub.status.idle": "2024-07-24T21:09:13.028840Z",
          "shell.execute_reply": "2024-07-24T21:09:13.027526Z",
          "shell.execute_reply.started": "2024-07-24T21:09:13.009088Z"
        },
        "id": "S0jxnhD9GSHM",
        "outputId": "6600933d-4a9d-46bc-9d47-99da3a50d8d4",
        "trusted": true
      },
      "outputs": [
        {
          "data": {
            "application/vnd.google.colaboratory.intrinsic+json": {
              "summary": "{\n  \"name\": \"confusion_df\",\n  \"rows\": 6,\n  \"fields\": [\n    {\n      \"column\": \"Africa\",\n      \"properties\": {\n        \"dtype\": \"number\",\n        \"std\": 19855,\n        \"min\": 4,\n        \"max\": 52340,\n        \"num_unique_values\": 6,\n        \"samples\": [\n          52340,\n          8266,\n          4\n        ],\n        \"semantic_type\": \"\",\n        \"description\": \"\"\n      }\n    },\n    {\n      \"column\": \"Asia\",\n      \"properties\": {\n        \"dtype\": \"number\",\n        \"std\": 17109,\n        \"min\": 0,\n        \"max\": 42183,\n        \"num_unique_values\": 6,\n        \"samples\": [\n          806,\n          42183,\n          0\n        ],\n        \"semantic_type\": \"\",\n        \"description\": \"\"\n      }\n    },\n    {\n      \"column\": \"Middle East\",\n      \"properties\": {\n        \"dtype\": \"number\",\n        \"std\": 7831,\n        \"min\": 0,\n        \"max\": 19187,\n        \"num_unique_values\": 5,\n        \"samples\": [\n          1,\n          3,\n          19187\n        ],\n        \"semantic_type\": \"\",\n        \"description\": \"\"\n      }\n    },\n    {\n      \"column\": \"Latin America\",\n      \"properties\": {\n        \"dtype\": \"number\",\n        \"std\": 10635,\n        \"min\": 3,\n        \"max\": 27184,\n        \"num_unique_values\": 6,\n        \"samples\": [\n          2409,\n          1856,\n          3\n        ],\n        \"semantic_type\": \"\",\n        \"description\": \"\"\n      }\n    },\n    {\n      \"column\": \"Europe\",\n      \"properties\": {\n        \"dtype\": \"number\",\n        \"std\": 12949,\n        \"min\": 0,\n        \"max\": 31886,\n        \"num_unique_values\": 6,\n        \"samples\": [\n          556,\n          215,\n          0\n        ],\n        \"semantic_type\": \"\",\n        \"description\": \"\"\n      }\n    },\n    {\n      \"column\": \"USA/Canada\",\n      \"properties\": {\n        \"dtype\": \"number\",\n        \"std\": 1701,\n        \"min\": 0,\n        \"max\": 4167,\n        \"num_unique_values\": 2,\n        \"samples\": [\n          4167,\n          0\n        ],\n        \"semantic_type\": \"\",\n        \"description\": \"\"\n      }\n    }\n  ]\n}",
              "type": "dataframe",
              "variable_name": "confusion_df"
            },
            "text/html": [
              "\n",
              "  <div id=\"df-16e3ffc2-327d-4918-8b4b-42f3928f2851\" class=\"colab-df-container\">\n",
              "    <div>\n",
              "<style scoped>\n",
              "    .dataframe tbody tr th:only-of-type {\n",
              "        vertical-align: middle;\n",
              "    }\n",
              "\n",
              "    .dataframe tbody tr th {\n",
              "        vertical-align: top;\n",
              "    }\n",
              "\n",
              "    .dataframe thead th {\n",
              "        text-align: right;\n",
              "    }\n",
              "</style>\n",
              "<table border=\"1\" class=\"dataframe\">\n",
              "  <thead>\n",
              "    <tr style=\"text-align: right;\">\n",
              "      <th></th>\n",
              "      <th>Africa</th>\n",
              "      <th>Asia</th>\n",
              "      <th>Middle East</th>\n",
              "      <th>Latin America</th>\n",
              "      <th>Europe</th>\n",
              "      <th>USA/Canada</th>\n",
              "    </tr>\n",
              "  </thead>\n",
              "  <tbody>\n",
              "    <tr>\n",
              "      <th>Africa</th>\n",
              "      <td>52340</td>\n",
              "      <td>806</td>\n",
              "      <td>13</td>\n",
              "      <td>2409</td>\n",
              "      <td>556</td>\n",
              "      <td>0</td>\n",
              "    </tr>\n",
              "    <tr>\n",
              "      <th>Asia</th>\n",
              "      <td>8266</td>\n",
              "      <td>42183</td>\n",
              "      <td>1</td>\n",
              "      <td>1856</td>\n",
              "      <td>215</td>\n",
              "      <td>0</td>\n",
              "    </tr>\n",
              "    <tr>\n",
              "      <th>Middle East</th>\n",
              "      <td>1755</td>\n",
              "      <td>127</td>\n",
              "      <td>19187</td>\n",
              "      <td>194</td>\n",
              "      <td>82</td>\n",
              "      <td>0</td>\n",
              "    </tr>\n",
              "    <tr>\n",
              "      <th>Latin America</th>\n",
              "      <td>3972</td>\n",
              "      <td>55</td>\n",
              "      <td>0</td>\n",
              "      <td>27184</td>\n",
              "      <td>4</td>\n",
              "      <td>0</td>\n",
              "    </tr>\n",
              "    <tr>\n",
              "      <th>Europe</th>\n",
              "      <td>7836</td>\n",
              "      <td>414</td>\n",
              "      <td>3</td>\n",
              "      <td>1736</td>\n",
              "      <td>31886</td>\n",
              "      <td>0</td>\n",
              "    </tr>\n",
              "    <tr>\n",
              "      <th>USA/Canada</th>\n",
              "      <td>4</td>\n",
              "      <td>0</td>\n",
              "      <td>0</td>\n",
              "      <td>3</td>\n",
              "      <td>0</td>\n",
              "      <td>4167</td>\n",
              "    </tr>\n",
              "  </tbody>\n",
              "</table>\n",
              "</div>\n",
              "    <div class=\"colab-df-buttons\">\n",
              "\n",
              "  <div class=\"colab-df-container\">\n",
              "    <button class=\"colab-df-convert\" onclick=\"convertToInteractive('df-16e3ffc2-327d-4918-8b4b-42f3928f2851')\"\n",
              "            title=\"Convert this dataframe to an interactive table.\"\n",
              "            style=\"display:none;\">\n",
              "\n",
              "  <svg xmlns=\"http://www.w3.org/2000/svg\" height=\"24px\" viewBox=\"0 -960 960 960\">\n",
              "    <path d=\"M120-120v-720h720v720H120Zm60-500h600v-160H180v160Zm220 220h160v-160H400v160Zm0 220h160v-160H400v160ZM180-400h160v-160H180v160Zm440 0h160v-160H620v160ZM180-180h160v-160H180v160Zm440 0h160v-160H620v160Z\"/>\n",
              "  </svg>\n",
              "    </button>\n",
              "\n",
              "  <style>\n",
              "    .colab-df-container {\n",
              "      display:flex;\n",
              "      gap: 12px;\n",
              "    }\n",
              "\n",
              "    .colab-df-convert {\n",
              "      background-color: #E8F0FE;\n",
              "      border: none;\n",
              "      border-radius: 50%;\n",
              "      cursor: pointer;\n",
              "      display: none;\n",
              "      fill: #1967D2;\n",
              "      height: 32px;\n",
              "      padding: 0 0 0 0;\n",
              "      width: 32px;\n",
              "    }\n",
              "\n",
              "    .colab-df-convert:hover {\n",
              "      background-color: #E2EBFA;\n",
              "      box-shadow: 0px 1px 2px rgba(60, 64, 67, 0.3), 0px 1px 3px 1px rgba(60, 64, 67, 0.15);\n",
              "      fill: #174EA6;\n",
              "    }\n",
              "\n",
              "    .colab-df-buttons div {\n",
              "      margin-bottom: 4px;\n",
              "    }\n",
              "\n",
              "    [theme=dark] .colab-df-convert {\n",
              "      background-color: #3B4455;\n",
              "      fill: #D2E3FC;\n",
              "    }\n",
              "\n",
              "    [theme=dark] .colab-df-convert:hover {\n",
              "      background-color: #434B5C;\n",
              "      box-shadow: 0px 1px 3px 1px rgba(0, 0, 0, 0.15);\n",
              "      filter: drop-shadow(0px 1px 2px rgba(0, 0, 0, 0.3));\n",
              "      fill: #FFFFFF;\n",
              "    }\n",
              "  </style>\n",
              "\n",
              "    <script>\n",
              "      const buttonEl =\n",
              "        document.querySelector('#df-16e3ffc2-327d-4918-8b4b-42f3928f2851 button.colab-df-convert');\n",
              "      buttonEl.style.display =\n",
              "        google.colab.kernel.accessAllowed ? 'block' : 'none';\n",
              "\n",
              "      async function convertToInteractive(key) {\n",
              "        const element = document.querySelector('#df-16e3ffc2-327d-4918-8b4b-42f3928f2851');\n",
              "        const dataTable =\n",
              "          await google.colab.kernel.invokeFunction('convertToInteractive',\n",
              "                                                    [key], {});\n",
              "        if (!dataTable) return;\n",
              "\n",
              "        const docLinkHtml = 'Like what you see? Visit the ' +\n",
              "          '<a target=\"_blank\" href=https://colab.research.google.com/notebooks/data_table.ipynb>data table notebook</a>'\n",
              "          + ' to learn more about interactive tables.';\n",
              "        element.innerHTML = '';\n",
              "        dataTable['output_type'] = 'display_data';\n",
              "        await google.colab.output.renderOutput(dataTable, element);\n",
              "        const docLink = document.createElement('div');\n",
              "        docLink.innerHTML = docLinkHtml;\n",
              "        element.appendChild(docLink);\n",
              "      }\n",
              "    </script>\n",
              "  </div>\n",
              "\n",
              "\n",
              "<div id=\"df-f7ae19bb-57fa-4619-849c-7684978ed288\">\n",
              "  <button class=\"colab-df-quickchart\" onclick=\"quickchart('df-f7ae19bb-57fa-4619-849c-7684978ed288')\"\n",
              "            title=\"Suggest charts\"\n",
              "            style=\"display:none;\">\n",
              "\n",
              "<svg xmlns=\"http://www.w3.org/2000/svg\" height=\"24px\"viewBox=\"0 0 24 24\"\n",
              "     width=\"24px\">\n",
              "    <g>\n",
              "        <path d=\"M19 3H5c-1.1 0-2 .9-2 2v14c0 1.1.9 2 2 2h14c1.1 0 2-.9 2-2V5c0-1.1-.9-2-2-2zM9 17H7v-7h2v7zm4 0h-2V7h2v10zm4 0h-2v-4h2v4z\"/>\n",
              "    </g>\n",
              "</svg>\n",
              "  </button>\n",
              "\n",
              "<style>\n",
              "  .colab-df-quickchart {\n",
              "      --bg-color: #E8F0FE;\n",
              "      --fill-color: #1967D2;\n",
              "      --hover-bg-color: #E2EBFA;\n",
              "      --hover-fill-color: #174EA6;\n",
              "      --disabled-fill-color: #AAA;\n",
              "      --disabled-bg-color: #DDD;\n",
              "  }\n",
              "\n",
              "  [theme=dark] .colab-df-quickchart {\n",
              "      --bg-color: #3B4455;\n",
              "      --fill-color: #D2E3FC;\n",
              "      --hover-bg-color: #434B5C;\n",
              "      --hover-fill-color: #FFFFFF;\n",
              "      --disabled-bg-color: #3B4455;\n",
              "      --disabled-fill-color: #666;\n",
              "  }\n",
              "\n",
              "  .colab-df-quickchart {\n",
              "    background-color: var(--bg-color);\n",
              "    border: none;\n",
              "    border-radius: 50%;\n",
              "    cursor: pointer;\n",
              "    display: none;\n",
              "    fill: var(--fill-color);\n",
              "    height: 32px;\n",
              "    padding: 0;\n",
              "    width: 32px;\n",
              "  }\n",
              "\n",
              "  .colab-df-quickchart:hover {\n",
              "    background-color: var(--hover-bg-color);\n",
              "    box-shadow: 0 1px 2px rgba(60, 64, 67, 0.3), 0 1px 3px 1px rgba(60, 64, 67, 0.15);\n",
              "    fill: var(--button-hover-fill-color);\n",
              "  }\n",
              "\n",
              "  .colab-df-quickchart-complete:disabled,\n",
              "  .colab-df-quickchart-complete:disabled:hover {\n",
              "    background-color: var(--disabled-bg-color);\n",
              "    fill: var(--disabled-fill-color);\n",
              "    box-shadow: none;\n",
              "  }\n",
              "\n",
              "  .colab-df-spinner {\n",
              "    border: 2px solid var(--fill-color);\n",
              "    border-color: transparent;\n",
              "    border-bottom-color: var(--fill-color);\n",
              "    animation:\n",
              "      spin 1s steps(1) infinite;\n",
              "  }\n",
              "\n",
              "  @keyframes spin {\n",
              "    0% {\n",
              "      border-color: transparent;\n",
              "      border-bottom-color: var(--fill-color);\n",
              "      border-left-color: var(--fill-color);\n",
              "    }\n",
              "    20% {\n",
              "      border-color: transparent;\n",
              "      border-left-color: var(--fill-color);\n",
              "      border-top-color: var(--fill-color);\n",
              "    }\n",
              "    30% {\n",
              "      border-color: transparent;\n",
              "      border-left-color: var(--fill-color);\n",
              "      border-top-color: var(--fill-color);\n",
              "      border-right-color: var(--fill-color);\n",
              "    }\n",
              "    40% {\n",
              "      border-color: transparent;\n",
              "      border-right-color: var(--fill-color);\n",
              "      border-top-color: var(--fill-color);\n",
              "    }\n",
              "    60% {\n",
              "      border-color: transparent;\n",
              "      border-right-color: var(--fill-color);\n",
              "    }\n",
              "    80% {\n",
              "      border-color: transparent;\n",
              "      border-right-color: var(--fill-color);\n",
              "      border-bottom-color: var(--fill-color);\n",
              "    }\n",
              "    90% {\n",
              "      border-color: transparent;\n",
              "      border-bottom-color: var(--fill-color);\n",
              "    }\n",
              "  }\n",
              "</style>\n",
              "\n",
              "  <script>\n",
              "    async function quickchart(key) {\n",
              "      const quickchartButtonEl =\n",
              "        document.querySelector('#' + key + ' button');\n",
              "      quickchartButtonEl.disabled = true;  // To prevent multiple clicks.\n",
              "      quickchartButtonEl.classList.add('colab-df-spinner');\n",
              "      try {\n",
              "        const charts = await google.colab.kernel.invokeFunction(\n",
              "            'suggestCharts', [key], {});\n",
              "      } catch (error) {\n",
              "        console.error('Error during call to suggestCharts:', error);\n",
              "      }\n",
              "      quickchartButtonEl.classList.remove('colab-df-spinner');\n",
              "      quickchartButtonEl.classList.add('colab-df-quickchart-complete');\n",
              "    }\n",
              "    (() => {\n",
              "      let quickchartButtonEl =\n",
              "        document.querySelector('#df-f7ae19bb-57fa-4619-849c-7684978ed288 button');\n",
              "      quickchartButtonEl.style.display =\n",
              "        google.colab.kernel.accessAllowed ? 'block' : 'none';\n",
              "    })();\n",
              "  </script>\n",
              "</div>\n",
              "\n",
              "  <div id=\"id_51ecef06-4f7a-4c23-9360-cec89ddc60e1\">\n",
              "    <style>\n",
              "      .colab-df-generate {\n",
              "        background-color: #E8F0FE;\n",
              "        border: none;\n",
              "        border-radius: 50%;\n",
              "        cursor: pointer;\n",
              "        display: none;\n",
              "        fill: #1967D2;\n",
              "        height: 32px;\n",
              "        padding: 0 0 0 0;\n",
              "        width: 32px;\n",
              "      }\n",
              "\n",
              "      .colab-df-generate:hover {\n",
              "        background-color: #E2EBFA;\n",
              "        box-shadow: 0px 1px 2px rgba(60, 64, 67, 0.3), 0px 1px 3px 1px rgba(60, 64, 67, 0.15);\n",
              "        fill: #174EA6;\n",
              "      }\n",
              "\n",
              "      [theme=dark] .colab-df-generate {\n",
              "        background-color: #3B4455;\n",
              "        fill: #D2E3FC;\n",
              "      }\n",
              "\n",
              "      [theme=dark] .colab-df-generate:hover {\n",
              "        background-color: #434B5C;\n",
              "        box-shadow: 0px 1px 3px 1px rgba(0, 0, 0, 0.15);\n",
              "        filter: drop-shadow(0px 1px 2px rgba(0, 0, 0, 0.3));\n",
              "        fill: #FFFFFF;\n",
              "      }\n",
              "    </style>\n",
              "    <button class=\"colab-df-generate\" onclick=\"generateWithVariable('confusion_df')\"\n",
              "            title=\"Generate code using this dataframe.\"\n",
              "            style=\"display:none;\">\n",
              "\n",
              "  <svg xmlns=\"http://www.w3.org/2000/svg\" height=\"24px\"viewBox=\"0 0 24 24\"\n",
              "       width=\"24px\">\n",
              "    <path d=\"M7,19H8.4L18.45,9,17,7.55,7,17.6ZM5,21V16.75L18.45,3.32a2,2,0,0,1,2.83,0l1.4,1.43a1.91,1.91,0,0,1,.58,1.4,1.91,1.91,0,0,1-.58,1.4L9.25,21ZM18.45,9,17,7.55Zm-12,3A5.31,5.31,0,0,0,4.9,8.1,5.31,5.31,0,0,0,1,6.5,5.31,5.31,0,0,0,4.9,4.9,5.31,5.31,0,0,0,6.5,1,5.31,5.31,0,0,0,8.1,4.9,5.31,5.31,0,0,0,12,6.5,5.46,5.46,0,0,0,6.5,12Z\"/>\n",
              "  </svg>\n",
              "    </button>\n",
              "    <script>\n",
              "      (() => {\n",
              "      const buttonEl =\n",
              "        document.querySelector('#id_51ecef06-4f7a-4c23-9360-cec89ddc60e1 button.colab-df-generate');\n",
              "      buttonEl.style.display =\n",
              "        google.colab.kernel.accessAllowed ? 'block' : 'none';\n",
              "\n",
              "      buttonEl.onclick = () => {\n",
              "        google.colab.notebook.generateWithVariable('confusion_df');\n",
              "      }\n",
              "      })();\n",
              "    </script>\n",
              "  </div>\n",
              "\n",
              "    </div>\n",
              "  </div>\n"
            ],
            "text/plain": [
              "               Africa   Asia  Middle East  Latin America  Europe  USA/Canada\n",
              "Africa          52340    806           13           2409     556           0\n",
              "Asia             8266  42183            1           1856     215           0\n",
              "Middle East      1755    127        19187            194      82           0\n",
              "Latin America    3972     55            0          27184       4           0\n",
              "Europe           7836    414            3           1736   31886           0\n",
              "USA/Canada          4      0            0              3       0        4167"
            ]
          },
          "execution_count": 112,
          "metadata": {},
          "output_type": "execute_result"
        }
      ],
      "source": [
        "# The confusion matrix array from our prevoius output\n",
        "confusion_matrix = np.array([\n",
        "    [52340, 806, 13, 2409, 556, 0],\n",
        "    [8266, 42183, 1, 1856, 215, 0],\n",
        "    [1755, 127, 19187, 194, 82, 0],\n",
        "    [3972, 55, 0, 27184, 4, 0],\n",
        "    [7836, 414, 3, 1736, 31886, 0],\n",
        "    [4, 0, 0, 3, 0, 4167]\n",
        "])\n",
        "\n",
        "# Class labels\n",
        "class_labels = [\n",
        "    \"Africa\",\n",
        "    \"Asia\",\n",
        "    \"Middle East\",\n",
        "    \"Latin America\",\n",
        "    \"Europe\",\n",
        "    \"USA/Canada\"\n",
        "]\n",
        "\n",
        "# Create and display the confusion matrix as a DataFrame\n",
        "confusion_df = pd.DataFrame(confusion_matrix, index=class_labels, columns=class_labels)\n",
        "\n",
        "# Display the confusion matrix DataFrame\n",
        "confusion_df\n"
      ]
    },
    {
      "cell_type": "markdown",
      "metadata": {
        "id": "OzaombddhEG0"
      },
      "source": [
        "Interpretation of the Confusion Matrix:\n",
        "\n",
        "- Africa (True: Africa):\n",
        "\n",
        "Most Correctly Predicted: 52,340 instances correctly classified as Africa.\n",
        "Misclassified as: Asia (806), Middle East (13), Latin America (2,409), Europe (556).\n",
        "\n",
        "- Asia (True: Asia):\n",
        "\n",
        "Most Correctly Predicted: 42,183 instances correctly classified as Asia.\n",
        "Misclassified as: Africa (8,266), Latin America (1,856), Europe (215).\n",
        "\n",
        "- Middle East (True: Middle East):\n",
        "\n",
        "Most Correctly Predicted: 19,187 instances correctly classified as Middle East.\n",
        "Misclassified as: Africa (1,755), Asia (127), Latin America (194), Europe (82).\n",
        "\n",
        "- Latin America (True: Latin America):\n",
        "\n",
        "Most Correctly Predicted: 27,184 instances correctly classified as Latin America.\n",
        "Misclassified as: Africa (3,972), Asia (55), Europe (4), Latin America (1,736).\n",
        "- Europe (True: Europe):\n",
        "\n",
        "Most Correctly Predicted: 31,886 instances correctly classified as Europe.\n",
        "Misclassified as: Africa (7,836), Asia (414), Latin America (3).\n",
        "- USA/Canada (True: USA/Canada):\n",
        "\n",
        "Most Correctly Predicted: 4,167 instances correctly classified as USA/Canada.\n",
        "Misclassified as: Africa (4), Asia (0), Latin America (3)."
      ]
    },
    {
      "cell_type": "code",
      "execution_count": null,
      "metadata": {
        "colab": {
          "base_uri": "https://localhost:8080/",
          "height": 646
        },
        "id": "WGDOotN00fFH",
        "outputId": "7c459f23-7ff9-40c6-da99-3b5e096dee4f"
      },
      "outputs": [
        {
          "data": {
            "image/png": "[encoded data removed]",
            "text/plain": [
              "<Figure size 800x600 with 2 Axes>"
            ]
          },
          "metadata": {},
          "output_type": "display_data"
        }
      ],
      "source": [
        "# plot the confusion matrix\n",
        "\n",
        "# Create a heatmap of the confusion matrix\n",
        "plt.figure(figsize=(8, 6))\n",
        "sns.heatmap(confusion_matrix, annot=True, fmt='d', cmap='Blues',\n",
        "            xticklabels=class_labels, yticklabels=class_labels)\n",
        "plt.xlabel('Predicted')\n",
        "plt.ylabel('Actual')\n",
        "plt.title('Confusion Matrix')\n",
        "plt.show()"
      ]
    },
    {
      "cell_type": "code",
      "execution_count": null,
      "metadata": {
        "colab": {
          "base_uri": "https://localhost:8080/"
        },
        "execution": {
          "iopub.execute_input": "2024-07-24T21:09:19.919308Z",
          "iopub.status.busy": "2024-07-24T21:09:19.918862Z",
          "iopub.status.idle": "2024-07-24T21:09:19.939578Z",
          "shell.execute_reply": "2024-07-24T21:09:19.938225Z",
          "shell.execute_reply.started": "2024-07-24T21:09:19.919275Z"
        },
        "id": "1UxLPKRYGSHM",
        "outputId": "bc7f237f-e78a-49d6-cc41-75ede356f32a",
        "trusted": true
      },
      "outputs": [
        {
          "name": "stdout",
          "output_type": "stream",
          "text": [
            "\n",
            "Feature Importance:\n",
            "                    feature  importance\n",
            "3  region_event_interaction    0.777791\n",
            "2             event_encoded    0.200937\n",
            "1            log_fatalities    0.010833\n",
            "0                fatalities    0.010439\n"
          ]
        }
      ],
      "source": [
        "# Feature importance\n",
        "feature_importance = pd.DataFrame({\n",
        "    'feature': X.columns,\n",
        "    'importance': rf_model.feature_importances_\n",
        "}).sort_values('importance', ascending=False)\n",
        "\n",
        "print(\"\\nFeature Importance:\")\n",
        "print(feature_importance)"
      ]
    },
    {
      "cell_type": "markdown",
      "metadata": {
        "id": "dAs8JV1phnmK"
      },
      "source": [
        "Feature Importance Breakdown:\n",
        "---\n",
        "\n",
        "\n",
        "          - region_event_interaction (Importance: 0.777791)\n",
        "\n",
        "This feature, which represents the interaction between the region and the event type, has the highest importance.\n",
        "It contributes about 77.78% to the model’s predictions, suggesting that the relationship between regions and event types is a key factor in classifying the regions accurately.\n",
        "\n",
        "\n",
        "          - event_encoded (Importance: 0.200937)\n",
        "\n",
        "The event type encoding has a moderate importance of 20.09%.\n",
        "The type of event also plays a significant role in the model's decision-making, but it's not as crucial as the interaction feature.\n",
        "\n",
        "\n",
        "          - log_fatalities (Importance: 0.010833)\n",
        "\n",
        "The log-transformed fatalities feature has a smaller importance of 1.08%.\n",
        "While fatalities may have some impact on classification, its contribution is much less compared to the interaction and event features.\n",
        "\n",
        "          - fatalities (Importance: 0.010439)\n",
        "\n",
        "The original fatalities feature has the lowest importance of 1.04%.\n",
        "Since the log-transformed fatalities (log_fatalities) has a higher importance, the model seems to rely more on the log-transformed version rather than the raw fatalities count.\n",
        "\n",
        "    Conclusion:\n",
        "region_event_interaction is the most influential feature, meaning the combination of the region and event type plays a crucial role in determining the model’s predictions.\n",
        "The event type is the second most important feature, while the fatalities features (both original and log-transformed) have relatively low importance."
      ]
    },
    {
      "cell_type": "code",
      "execution_count": null,
      "metadata": {
        "colab": {
          "base_uri": "https://localhost:8080/",
          "height": 303
        },
        "execution": {
          "iopub.execute_input": "2024-07-24T21:09:31.929597Z",
          "iopub.status.busy": "2024-07-24T21:09:31.929133Z",
          "iopub.status.idle": "2024-07-24T21:09:31.951983Z",
          "shell.execute_reply": "2024-07-24T21:09:31.950685Z",
          "shell.execute_reply.started": "2024-07-24T21:09:31.929560Z"
        },
        "id": "eC5X2HbkGSHN",
        "outputId": "f1b3c75b-5e89-4884-b061-9a4c3d3292fd",
        "trusted": true
      },
      "outputs": [
        {
          "data": {
            "text/html": [
              "<div>\n",
              "<style scoped>\n",
              "    .dataframe tbody tr th:only-of-type {\n",
              "        vertical-align: middle;\n",
              "    }\n",
              "\n",
              "    .dataframe tbody tr th {\n",
              "        vertical-align: top;\n",
              "    }\n",
              "\n",
              "    .dataframe thead th {\n",
              "        text-align: right;\n",
              "    }\n",
              "</style>\n",
              "<table border=\"1\" class=\"dataframe\">\n",
              "  <thead>\n",
              "    <tr style=\"text-align: right;\">\n",
              "      <th></th>\n",
              "      <th>count</th>\n",
              "    </tr>\n",
              "    <tr>\n",
              "      <th>region_encoded</th>\n",
              "      <th></th>\n",
              "    </tr>\n",
              "  </thead>\n",
              "  <tbody>\n",
              "    <tr>\n",
              "      <th>0</th>\n",
              "      <td>279653</td>\n",
              "    </tr>\n",
              "    <tr>\n",
              "      <th>1</th>\n",
              "      <td>263985</td>\n",
              "    </tr>\n",
              "    <tr>\n",
              "      <th>4</th>\n",
              "      <td>210199</td>\n",
              "    </tr>\n",
              "    <tr>\n",
              "      <th>3</th>\n",
              "      <td>155933</td>\n",
              "    </tr>\n",
              "    <tr>\n",
              "      <th>2</th>\n",
              "      <td>105582</td>\n",
              "    </tr>\n",
              "    <tr>\n",
              "      <th>5</th>\n",
              "      <td>20917</td>\n",
              "    </tr>\n",
              "  </tbody>\n",
              "</table>\n",
              "</div><br><label><b>dtype:</b> int64</label>"
            ],
            "text/plain": [
              "region_encoded\n",
              "0    279653\n",
              "1    263985\n",
              "4    210199\n",
              "3    155933\n",
              "2    105582\n",
              "5     20917\n",
              "Name: count, dtype: int64"
            ]
          },
          "execution_count": 115,
          "metadata": {},
          "output_type": "execute_result"
        }
      ],
      "source": [
        "combined_df.region_encoded.value_counts()"
      ]
    },
    {
      "cell_type": "code",
      "execution_count": null,
      "metadata": {
        "colab": {
          "base_uri": "https://localhost:8080/",
          "height": 303
        },
        "execution": {
          "iopub.execute_input": "2024-07-24T21:09:37.062614Z",
          "iopub.status.busy": "2024-07-24T21:09:37.062226Z",
          "iopub.status.idle": "2024-07-24T21:09:37.215385Z",
          "shell.execute_reply": "2024-07-24T21:09:37.213935Z",
          "shell.execute_reply.started": "2024-07-24T21:09:37.062575Z"
        },
        "id": "xahDPCAPGSHN",
        "outputId": "18d91e8b-e863-4084-e71a-96a825ea5013",
        "trusted": true
      },
      "outputs": [
        {
          "data": {
            "text/html": [
              "<div>\n",
              "<style scoped>\n",
              "    .dataframe tbody tr th:only-of-type {\n",
              "        vertical-align: middle;\n",
              "    }\n",
              "\n",
              "    .dataframe tbody tr th {\n",
              "        vertical-align: top;\n",
              "    }\n",
              "\n",
              "    .dataframe thead th {\n",
              "        text-align: right;\n",
              "    }\n",
              "</style>\n",
              "<table border=\"1\" class=\"dataframe\">\n",
              "  <thead>\n",
              "    <tr style=\"text-align: right;\">\n",
              "      <th></th>\n",
              "      <th>count</th>\n",
              "    </tr>\n",
              "    <tr>\n",
              "      <th>Region</th>\n",
              "      <th></th>\n",
              "    </tr>\n",
              "  </thead>\n",
              "  <tbody>\n",
              "    <tr>\n",
              "      <th>Africa</th>\n",
              "      <td>279653</td>\n",
              "    </tr>\n",
              "    <tr>\n",
              "      <th>Asia</th>\n",
              "      <td>263985</td>\n",
              "    </tr>\n",
              "    <tr>\n",
              "      <th>Middle East</th>\n",
              "      <td>210199</td>\n",
              "    </tr>\n",
              "    <tr>\n",
              "      <th>Latin America</th>\n",
              "      <td>155933</td>\n",
              "    </tr>\n",
              "    <tr>\n",
              "      <th>Europe</th>\n",
              "      <td>105582</td>\n",
              "    </tr>\n",
              "    <tr>\n",
              "      <th>USA/Canada</th>\n",
              "      <td>20917</td>\n",
              "    </tr>\n",
              "  </tbody>\n",
              "</table>\n",
              "</div><br><label><b>dtype:</b> int64</label>"
            ],
            "text/plain": [
              "Region\n",
              "Africa           279653\n",
              "Asia             263985\n",
              "Middle East      210199\n",
              "Latin America    155933\n",
              "Europe           105582\n",
              "USA/Canada        20917\n",
              "Name: count, dtype: int64"
            ]
          },
          "execution_count": 116,
          "metadata": {},
          "output_type": "execute_result"
        }
      ],
      "source": [
        "combined_df.Region.value_counts()"
      ]
    },
    {
      "cell_type": "code",
      "execution_count": null,
      "metadata": {
        "id": "HSu8s5jjGSHN"
      },
      "outputs": [],
      "source": []
    },
    {
      "cell_type": "markdown",
      "metadata": {
        "id": "TbQ_w039GSHN"
      },
      "source": [
        "# **LLM Integration**"
      ]
    },
    {
      "cell_type": "markdown",
      "metadata": {
        "id": "sgINhxT1GSHO"
      },
      "source": [
        "In this section, we detail the integration of a Large Language Model (LLM) into our conflict prediction workflow. By leveraging Google's GenerativeAI model through its API, we aim to enhance our system by generating strategic mitigation plans based on the predictions produced by our Random Forest model. This fusion of advanced machine learning techniques and natural language processing allows for more informed and actionable insights."
      ]
    },
    {
      "cell_type": "markdown",
      "metadata": {
        "id": "-eqDwjK-GSHO"
      },
      "source": [
        "The LLM generates a holistic and actionable mitigation strategy tailored to the specific conflict type and region."
      ]
    },
    {
      "cell_type": "code",
      "execution_count": null,
      "metadata": {
        "execution": {
          "iopub.execute_input": "2024-07-24T21:09:52.673438Z",
          "iopub.status.busy": "2024-07-24T21:09:52.673001Z",
          "iopub.status.idle": "2024-07-24T21:09:52.679688Z",
          "shell.execute_reply": "2024-07-24T21:09:52.678148Z",
          "shell.execute_reply.started": "2024-07-24T21:09:52.673404Z"
        },
        "id": "LqJmlDbpGSHO",
        "trusted": true
      },
      "outputs": [],
      "source": [
        "from google.generativeai import GenerativeModel\n",
        "\"\"\" Imports the GenerativeModel class, which is the primary interface for interacting with\n",
        "various generative AI models within the Google Cloud ecosystem.\"\"\"\n",
        "import google.generativeai as genai\n",
        "import os\n",
        "import re\n"
      ]
    },
    {
      "cell_type": "code",
      "execution_count": null,
      "metadata": {
        "execution": {
          "iopub.execute_input": "2024-07-24T21:09:56.757019Z",
          "iopub.status.busy": "2024-07-24T21:09:56.756582Z",
          "iopub.status.idle": "2024-07-24T21:09:56.762957Z",
          "shell.execute_reply": "2024-07-24T21:09:56.761548Z",
          "shell.execute_reply.started": "2024-07-24T21:09:56.756986Z"
        },
        "id": "yMJcMNSzGSHO",
        "trusted": true
      },
      "outputs": [],
      "source": [
        "# API_KEY = \"type your API key here\"\n"
      ]
    },
    {
      "cell_type": "code",
      "execution_count": null,
      "metadata": {
        "execution": {
          "iopub.execute_input": "2024-07-24T21:10:00.868290Z",
          "iopub.status.busy": "2024-07-24T21:10:00.867848Z",
          "iopub.status.idle": "2024-07-24T21:10:00.874759Z",
          "shell.execute_reply": "2024-07-24T21:10:00.873031Z",
          "shell.execute_reply.started": "2024-07-24T21:10:00.868255Z"
        },
        "id": "EbCFJ5VbGSHP",
        "trusted": true
      },
      "outputs": [],
      "source": [
        "#genai.configure(api_key=API_KEY)"
      ]
    },
    {
      "cell_type": "markdown",
      "metadata": {
        "id": "rYDsBEWhi3p5"
      },
      "source": [
        "Define a template for generating prompts for a generative AI model to create mitigation strategies for various event types"
      ]
    },
    {
      "cell_type": "markdown",
      "metadata": {
        "id": "cVD7ZPxAjQXF"
      },
      "source": [
        "This function effectively combines the prompt generation and model interaction to create a comprehensive workflow for generating mitigation strategies using a generative AI model"
      ]
    },
    {
      "cell_type": "code",
      "execution_count": null,
      "metadata": {
        "id": "h5Bg9fc43bJQ"
      },
      "outputs": [],
      "source": [
        "def prompt(event_type, region=\"Unknown Region\"): # Added a default value for region\n",
        "    return f\"\"\"\n",
        "    Generate a detailed and actionable mitigation strategy for addressing {event_type} in the {region}. The strategy should include the following components:\n",
        "\n",
        "    1. Immediate Response Actions:\n",
        "       - Specific emergency measures to be taken to ensure immediate safety and stabilization.\n",
        "       - Roles and responsibilities of key responders (e.g., security forces, medical personnel, humanitarian organizations).\n",
        "\n",
        "    2. Medium-Term Interventions:\n",
        "       - Programs and initiatives to address underlying issues and reduce the recurrence of conflict.\n",
        "       - Steps to rebuild trust and promote reconciliation among affected communities.\n",
        "\n",
        "    3. Long-Term Prevention Measures:\n",
        "       - Structural changes and policies to prevent future conflicts.\n",
        "       - Education and awareness campaigns to foster a culture of peace and non-violence.\n",
        "\n",
        "    4. Key Stakeholders to Involve:\n",
        "       - Identification of essential stakeholders (e.g., government agencies, NGOs, community leaders, international organizations).\n",
        "       - Their roles and contributions to the mitigation efforts.\n",
        "\n",
        "    5. Potential Challenges in Implementation:\n",
        "       - Anticipated obstacles and resistance.\n",
        "       - Strategies to overcome these challenges and ensure the effectiveness of the mitigation plan.\n",
        "\n",
        "    Note: Ensure the strategies are well-structured, clearly numbered, and provide practical, actionable steps. Avoid using bold or special characters.\n",
        "    \"\"\"\n",
        "    return  prompt"
      ]
    },
    {
      "cell_type": "code",
      "execution_count": null,
      "metadata": {
        "id": "Oz2HIC9P3cs5"
      },
      "outputs": [],
      "source": [
        "prompt_response = prompt(\"Violence\", region=\"Africa\") # Pass the region when calling prompt"
      ]
    },
    {
      "cell_type": "code",
      "execution_count": null,
      "metadata": {
        "execution": {
          "iopub.execute_input": "2024-07-24T21:10:48.187235Z",
          "iopub.status.busy": "2024-07-24T21:10:48.186778Z",
          "iopub.status.idle": "2024-07-24T21:10:48.196168Z",
          "shell.execute_reply": "2024-07-24T21:10:48.194444Z",
          "shell.execute_reply.started": "2024-07-24T21:10:48.187178Z"
        },
        "id": "GeEY9iabGSHQ",
        "trusted": true
      },
      "outputs": [],
      "source": [
        "def generate_mitigation_strategy(event_type):\n",
        "    model = GenerativeModel(\"gemini-1.5-flash\")\n",
        "    prompt_text = prompt(event_type)\n",
        "    response = model.generate_content(\n",
        "        prompt_text,\n",
        "        generation_config={\n",
        "            \"max_output_tokens\": 8052,\n",
        "            \"temperature\": 0.3,\n",
        "            \"top_p\": 1\n",
        "        },\n",
        "        stream=False\n",
        "    )\n",
        "    new_response = \"\".join(response.candidates[0].content.parts[0].text)\n",
        "    new_response = re.sub(r\"[\\*#]\", \"\", new_response)\n",
        "    return new_response"
      ]
    },
    {
      "cell_type": "code",
      "execution_count": null,
      "metadata": {
        "execution": {
          "iopub.execute_input": "2024-07-24T21:16:13.606701Z",
          "iopub.status.busy": "2024-07-24T21:16:13.606082Z",
          "iopub.status.idle": "2024-07-24T21:16:13.614474Z",
          "shell.execute_reply": "2024-07-24T21:16:13.612507Z",
          "shell.execute_reply.started": "2024-07-24T21:16:13.606661Z"
        },
        "id": "U4kQaou9GSHR",
        "trusted": true
      },
      "outputs": [],
      "source": [
        "prompt_response = prompt(\"Violence\")"
      ]
    },
    {
      "cell_type": "code",
      "execution_count": null,
      "metadata": {
        "colab": {
          "base_uri": "https://localhost:8080/",
          "height": 356
        },
        "execution": {
          "iopub.execute_input": "2024-07-24T21:17:43.463160Z",
          "iopub.status.busy": "2024-07-24T21:17:43.462671Z",
          "iopub.status.idle": "2024-07-24T21:17:52.191473Z",
          "shell.execute_reply": "2024-07-24T21:17:52.190136Z",
          "shell.execute_reply.started": "2024-07-24T21:17:43.463125Z"
        },
        "id": "MUqARjz7GSHR",
        "outputId": "254be9ef-745c-4a9a-b4a5-fa3b8e27bfac",
        "trusted": true
      },
      "outputs": [],
      "source": [
        "response = generate_mitigation_strategy(prompt_response)"
      ]
    },
    {
      "cell_type": "code",
      "execution_count": null,
      "metadata": {
        "execution": {
          "iopub.execute_input": "2024-07-24T21:19:53.892480Z",
          "iopub.status.busy": "2024-07-24T21:19:53.891989Z",
          "iopub.status.idle": "2024-07-24T21:19:53.899677Z",
          "shell.execute_reply": "2024-07-24T21:19:53.897856Z",
          "shell.execute_reply.started": "2024-07-24T21:19:53.892431Z"
        },
        "id": "64rFfSk3GSHS",
        "trusted": true
      },
      "outputs": [],
      "source": [
        "new_response = \"\".join(response)\n",
        "new_response = re.sub(r\"[\\#]\", \"\", new_response)"
      ]
    },
    {
      "cell_type": "code",
      "execution_count": null,
      "metadata": {
        "execution": {
          "iopub.execute_input": "2024-07-24T21:19:59.676397Z",
          "iopub.status.busy": "2024-07-24T21:19:59.676002Z",
          "iopub.status.idle": "2024-07-24T21:19:59.683030Z",
          "shell.execute_reply": "2024-07-24T21:19:59.681635Z",
          "shell.execute_reply.started": "2024-07-24T21:19:59.676367Z"
        },
        "id": "pTLrF82DGSHS",
        "trusted": true
      },
      "outputs": [],
      "source": [
        "print(new_response)"
      ]
    },
    {
      "cell_type": "code",
      "execution_count": null,
      "metadata": {
        "id": "Z15uAUHPGSHT"
      },
      "outputs": [],
      "source": []
    },
    {
      "cell_type": "markdown",
      "metadata": {
        "id": "nMgZO4RikG5Z"
      },
      "source": [
        "Functionality of the code above:\n",
        "\n",
        "\n",
        "---\n",
        "\n",
        "\n",
        "\n",
        "Generative Model Instance:\n",
        "\n",
        "\n",
        "model = GenerativeModel(\"gemini-1.5-flash\")\n",
        "Creates a GenerativeModel instance, likely using Google Generative AI models.\n",
        "The specific model name \"gemini-1.5-flash\" a text generation model suitable for the task.\n",
        "\n",
        "\n",
        "---\n",
        "\n",
        "\n",
        "Prompt Generation:\n",
        "\n",
        "prompt_text = prompt(event_type)\n",
        "\n",
        "Calls the previously defined prompt function to generate a detailed prompt based on the provided event_type.\n",
        "\n",
        "---\n",
        "Content Generation:\n",
        "\n",
        "\n",
        "response = model.generate_content(...)\n",
        "\n",
        "Uses the GenerativeModel instance (model) to generate content (text) based on the prompt (prompt_text).\n",
        "\n",
        "---\n",
        "Several arguments are passed to generate_content:\n",
        "\n",
        "- prompt_text:\n",
        "\n",
        "The text prompt defining the desired content.\n",
        "generation_config: A dictionary containing configuration options for the generation process:\n",
        "\n",
        "- max_output_tokens:\n",
        "\n",
        "Limits the total number of tokens generated (set to 8052 in this case).\n",
        "\n",
        "- temperature:\n",
        "\n",
        "Controls the randomness of the generated text (0.3 indicates a balance between creativity and coherence).\n",
        "\n",
        "- top_p:\n",
        "\n",
        "Influences the sampling strategy for selecting the next word (set to 1, likely for maximum likelihood sampling).\n",
        "\n",
        "- stream=False:\n",
        "\n",
        "Indicates that the response should be returned as a whole rather than streamed in parts.\n",
        "\n",
        "- Response Processing:\n",
        "\n",
        "new_response = \"\".join(response.candidates[0].content.parts[0].text)\n",
        "\n",
        "Extracts the generated text from the response object.\n",
        "Assumes the first candidate (potentially the most likely generation) and extracts the text content from the first part.\n",
        "\n",
        "new_response = re.sub(r\"[\\*#]\", \"\", new_response)\n",
        "Removes any asterisks (*) or hash characters (#) from the generated text, as instructed by the prompt.\n",
        "Return Mitigation Strategy:\n",
        "\n",
        "return new_response\n",
        "Returns the processed text, which represents the AI-generated mitigation strategy for the specified event type."
      ]
    },
    {
      "cell_type": "code",
      "execution_count": null,
      "metadata": {
        "colab": {
          "base_uri": "https://localhost:8080/"
        },
        "id": "hwCME8o54X4G",
        "outputId": "263d1031-8739-42fa-9cc0-0dde13d581f2"
      },
      "outputs": [
        {
          "name": "stdout",
          "output_type": "stream",
          "text": [
            "Requirement already satisfied: openai in /usr/local/lib/python3.10/dist-packages (0.28.0)\n",
            "Requirement already satisfied: requests>=2.20 in /usr/local/lib/python3.10/dist-packages (from openai) (2.32.3)\n",
            "Requirement already satisfied: tqdm in /usr/local/lib/python3.10/dist-packages (from openai) (4.67.1)\n",
            "Requirement already satisfied: aiohttp in /usr/local/lib/python3.10/dist-packages (from openai) (3.11.11)\n",
            "Requirement already satisfied: charset-normalizer<4,>=2 in /usr/local/lib/python3.10/dist-packages (from requests>=2.20->openai) (3.4.1)\n",
            "Requirement already satisfied: idna<4,>=2.5 in /usr/local/lib/python3.10/dist-packages (from requests>=2.20->openai) (3.10)\n",
            "Requirement already satisfied: urllib3<3,>=1.21.1 in /usr/local/lib/python3.10/dist-packages (from requests>=2.20->openai) (2.3.0)\n",
            "Requirement already satisfied: certifi>=2017.4.17 in /usr/local/lib/python3.10/dist-packages (from requests>=2.20->openai) (2024.12.14)\n",
            "Requirement already satisfied: aiohappyeyeballs>=2.3.0 in /usr/local/lib/python3.10/dist-packages (from aiohttp->openai) (2.4.4)\n",
            "Requirement already satisfied: aiosignal>=1.1.2 in /usr/local/lib/python3.10/dist-packages (from aiohttp->openai) (1.3.2)\n",
            "Requirement already satisfied: async-timeout<6.0,>=4.0 in /usr/local/lib/python3.10/dist-packages (from aiohttp->openai) (4.0.3)\n",
            "Requirement already satisfied: attrs>=17.3.0 in /usr/local/lib/python3.10/dist-packages (from aiohttp->openai) (24.3.0)\n",
            "Requirement already satisfied: frozenlist>=1.1.1 in /usr/local/lib/python3.10/dist-packages (from aiohttp->openai) (1.5.0)\n",
            "Requirement already satisfied: multidict<7.0,>=4.5 in /usr/local/lib/python3.10/dist-packages (from aiohttp->openai) (6.1.0)\n",
            "Requirement already satisfied: propcache>=0.2.0 in /usr/local/lib/python3.10/dist-packages (from aiohttp->openai) (0.2.1)\n",
            "Requirement already satisfied: yarl<2.0,>=1.17.0 in /usr/local/lib/python3.10/dist-packages (from aiohttp->openai) (1.18.3)\n",
            "Requirement already satisfied: typing-extensions>=4.1.0 in /usr/local/lib/python3.10/dist-packages (from multidict<7.0,>=4.5->aiohttp->openai) (4.12.2)\n"
          ]
        }
      ],
      "source": [
        "!pip install openai\n",
        "\n",
        "import openai\n",
        "import os\n",
        "import re"
      ]
    },
    {
      "cell_type": "code",
      "execution_count": null,
      "metadata": {
        "colab": {
          "base_uri": "https://localhost:8080/",
          "height": 52
        },
        "id": "s8DYk8Uo4gvU",
        "outputId": "14f4ac99-e545-4caa-83a9-c4b2e88de013"
      },
      "outputs": [],
      "source": [
        "#from google.colab import userdata\n",
        "#userdata.get('OPENAI_API_KEY')"
      ]
    },
    {
      "cell_type": "code",
      "execution_count": null,
      "metadata": {
        "id": "eWsAd0IS4720"
      },
      "outputs": [],
      "source": [
        "def prompt(event_type, region=\"Unknown Region\"): # Added a default value for region\n",
        "    return f\"\"\"\n",
        "    Generate a detailed and actionable mitigation strategy for addressing {event_type} in the {region}. The strategy should include the following components:\n",
        "\n",
        "    1. Immediate Response Actions:\n",
        "       - Specific emergency measures to be taken to ensure immediate safety and stabilization.\n",
        "       - Roles and responsibilities of key responders (e.g., security forces, medical personnel, humanitarian organizations).\n",
        "\n",
        "    2. Medium-Term Interventions:\n",
        "       - Programs and initiatives to address underlying issues and reduce the recurrence of conflict.\n",
        "       - Steps to rebuild trust and promote reconciliation among affected communities.\n",
        "\n",
        "    3. Long-Term Prevention Measures:\n",
        "       - Structural changes and policies to prevent future conflicts.\n",
        "       - Education and awareness campaigns to foster a culture of peace and non-violence.\n",
        "\n",
        "    4. Key Stakeholders to Involve:\n",
        "       - Identification of essential stakeholders (e.g., government agencies, NGOs, community leaders, international organizations).\n",
        "       - Their roles and contributions to the mitigation efforts.\n",
        "\n",
        "    5. Potential Challenges in Implementation:\n",
        "       - Anticipated obstacles and resistance.\n",
        "       - Strategies to overcome these challenges and ensure the effectiveness of the mitigation plan.\n",
        "\n",
        "    Note: Ensure the strategies are well-structured, clearly numbered, and provide practical, actionable steps. Avoid using bold or special characters.\n",
        "    \"\"\"\n",
        "    return prompt"
      ]
    },
    {
      "cell_type": "code",
      "execution_count": null,
      "metadata": {
        "id": "WLCT4f-cGSHT"
      },
      "outputs": [],
      "source": [
        "def generate_mitigation_strategy(event_type):\n",
        "    openai.api_key = \"OPENAI_API_KEY\"\n",
        "\n",
        "    response = openai.Completion.create(\n",
        "        engine=\"text-davinci-003\",  # Choose an appropriate engine\n",
        "        prompt=prompt(event_type),\n",
        "        max_tokens=8000,  # Adjust as needed\n",
        "        temperature=0.3,\n",
        "        top_p=1,\n",
        "        n=1,  # Number of responses to generate\n",
        "        stop=None,\n",
        "    )\n",
        "\n",
        "    new_response = response.choices[0].text.strip()\n",
        "    new_response = re.sub(r\"[\\*#]\", \"\", new_response)\n",
        "    return new_response\n",
        "\n"
      ]
    },
    {
      "cell_type": "code",
      "execution_count": null,
      "metadata": {
        "colab": {
          "base_uri": "https://localhost:8080/",
          "height": 338
        },
        "id": "_KUHrv8oGSHU",
        "outputId": "4a649f1e-d94f-4a94-dc14-cf9b7c743f01"
      },
      "outputs": [],
      "source": [
        "# Example usage:\n",
        "prompt_response = prompt(\"Violence\", region=\"Africa\")\n",
        "response = generate_mitigation_strategy(prompt_response)\n",
        "print(response)"
      ]
    },
    {
      "cell_type": "code",
      "execution_count": null,
      "metadata": {
        "id": "NlbqvZI_4uRm"
      },
      "outputs": [],
      "source": []
    },
    {
      "cell_type": "code",
      "execution_count": null,
      "metadata": {
        "id": "Ay1emiJu4uO3"
      },
      "outputs": [],
      "source": []
    },
    {
      "cell_type": "code",
      "execution_count": null,
      "metadata": {
        "id": "cc_ID1It6ik2"
      },
      "outputs": [],
      "source": []
    },
    {
      "cell_type": "code",
      "execution_count": null,
      "metadata": {
        "id": "SkApPmoC4uLr"
      },
      "outputs": [],
      "source": [
        "\n"
      ]
    }
  ],
  "metadata": {
    "colab": {
      "provenance": []
    },
    "kaggle": {
      "accelerator": "none",
      "dataSources": [
        {
          "datasetId": 5428341,
          "sourceId": 9009854,
          "sourceType": "datasetVersion"
        }
      ],
      "dockerImageVersionId": 30746,
      "isGpuEnabled": false,
      "isInternetEnabled": true,
      "language": "python",
      "sourceType": "notebook"
    },
    "kernelspec": {
      "display_name": "ai_agent",
      "language": "python",
      "name": "python3"
    },
    "language_info": {
      "codemirror_mode": {
        "name": "ipython",
        "version": 3
      },
      "file_extension": ".py",
      "mimetype": "text/x-python",
      "name": "python",
      "nbconvert_exporter": "python",
      "pygments_lexer": "ipython3",
      "version": "3.12.4"
    }
  },
  "nbformat": 4,
  "nbformat_minor": 0
}
